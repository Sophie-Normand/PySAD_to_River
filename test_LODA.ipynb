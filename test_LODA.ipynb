{
 "cells": [
  {
   "cell_type": "code",
   "execution_count": 15,
   "id": "0030079f",
   "metadata": {},
   "outputs": [],
   "source": [
    "import numpy as np\n",
    "import pandas as pd"
   ]
  },
  {
   "cell_type": "code",
   "execution_count": 16,
   "id": "6a3f78cb",
   "metadata": {},
   "outputs": [],
   "source": [
    "import scipy.io\n",
    "#data = scipy.io.loadmat('/Users/Sophie/Library/CloudStorage/OneDrive-Personnel/IP/Data Stream Processing/PySAD_to_River/data/cover.mat') \n",
    "data_arr = scipy.io.loadmat('C:/Users/e32cl/Documents/M2/P2 Data Stream/Projet/PySAD_to_River/data/arrhythmia.mat') "
   ]
  },
  {
   "cell_type": "code",
   "execution_count": null,
   "id": "97f08782-f70d-4ebb-aa76-4788699c43b6",
   "metadata": {},
   "outputs": [],
   "source": [
    "#data = scipy.io.loadmat('/Users/Sophie/Library/CloudStorage/OneDrive-Personnel/IP/Data Stream Processing/PySAD_to_River/data/arrhythmia.mat') \n",
    "data_cover = scipy.io.loadmat('C:/Users/e32cl/Documents/M2/P2 Data Stream/Projet/PySAD_to_River/data/cover.mat') "
   ]
  },
  {
   "cell_type": "code",
   "execution_count": 17,
   "id": "8efcf1be",
   "metadata": {},
   "outputs": [],
   "source": [
    "data = data_cover\n",
    "X = data['X']\n",
    "y = data['y']\n",
    "y_flat = data['y'].flatten()"
   ]
  },
  {
   "cell_type": "code",
   "execution_count": 18,
   "id": "a6b22d01",
   "metadata": {},
   "outputs": [
    {
     "name": "stdout",
     "output_type": "stream",
     "text": [
      "<class 'numpy.ndarray'> (286048, 10)\n",
      "<class 'numpy.ndarray'> (286048, 1)\n"
     ]
    }
   ],
   "source": [
    "print(type(X),X.shape)\n",
    "print(type(y),y.shape)\n",
    "#print(y.flatten())"
   ]
  },
  {
   "cell_type": "code",
   "execution_count": 20,
   "id": "ca1ca697",
   "metadata": {},
   "outputs": [
    {
     "data": {
      "text/plain": [
       "0.009603283365029646"
      ]
     },
     "execution_count": 20,
     "metadata": {},
     "output_type": "execute_result"
    }
   ],
   "source": [
    "y.mean()"
   ]
  },
  {
   "cell_type": "markdown",
   "id": "fc51b920",
   "metadata": {},
   "source": [
    "#### import our model"
   ]
  },
  {
   "cell_type": "code",
   "execution_count": null,
   "id": "a5ae09ec",
   "metadata": {},
   "outputs": [],
   "source": [
    "from anomaly.base import AnomalyDetector"
   ]
  },
  {
   "cell_type": "code",
   "execution_count": null,
   "id": "96600b38",
   "metadata": {},
   "outputs": [],
   "source": [
    "from river import utils, metrics\n",
    "from river.stream import iter_array, iter_pandas"
   ]
  },
  {
   "cell_type": "code",
   "execution_count": null,
   "id": "4f96f26c",
   "metadata": {},
   "outputs": [],
   "source": [
    "from models.loda import LODA"
   ]
  },
  {
   "cell_type": "code",
   "execution_count": null,
   "id": "50406f5f",
   "metadata": {},
   "outputs": [],
   "source": [
    "from pysad.transform.probability_calibration import ConformalProbabilityCalibrator"
   ]
  },
  {
   "cell_type": "code",
   "execution_count": null,
   "id": "311de08f",
   "metadata": {},
   "outputs": [],
   "source": [
    "model = LODA()\n",
    "calibrator = ConformalProbabilityCalibrator(windowed=True, window_size=300)\n",
    "\n",
    "ROCAUC = metrics.ROCAUC()\n",
    "for xi, yi in iter_array(X,y_flat):\n",
    "    anomaly_score = model.score_one(xi)\n",
    "    model = model.learn_one(xi)\n",
    "    print(anomaly_score)\n",
    "    #calibrated_score = calibrator.fit_transform(anomaly_score)\n",
    "    #ROCAUC.update(yi,calibrated_score[0])\n",
    "    ROCAUC.update(yi,anomaly_score[0])\n",
    "print(ROCAUC)"
   ]
  },
  {
   "cell_type": "code",
   "execution_count": null,
   "id": "5d183c6d",
   "metadata": {},
   "outputs": [],
   "source": [
    "i=0\n",
    "for xi, yi in iter_array(X,y_flat):\n",
    "    i=i+1\n",
    "    if i==10:\n",
    "        x10 = xi\n",
    "        y10 = yi"
   ]
  },
  {
   "cell_type": "code",
   "execution_count": null,
   "id": "04c94bc6",
   "metadata": {},
   "outputs": [],
   "source": [
    "print(type(x10))\n",
    "print(y10)\n",
    "print(utils.dict2numpy(x10).shape)\n",
    "print(utils.dict2numpy(x10).reshape(1,-1).shape)"
   ]
  },
  {
   "cell_type": "code",
   "execution_count": null,
   "id": "db03ac38",
   "metadata": {},
   "outputs": [],
   "source": [
    "metric_test = metrics.ROCAUC()\n",
    "y_true = [ 0,  0,   1,  1]\n",
    "y_pred = [.1, .4, .35, .8]\n",
    "for yt, yp in zip(y_true, y_pred):\n",
    "    metric_test = metric_test.update(yt, yp)\n",
    "metric_test"
   ]
  },
  {
   "cell_type": "code",
   "execution_count": null,
   "id": "a27d2ca9",
   "metadata": {},
   "outputs": [],
   "source": [
    "metric_test = metrics.ROCAUC()\n",
    "y_true = [ False,  False,   True,  True]\n",
    "y_pred = [.1, .4, .35, .8]\n",
    "for yt, yp in zip(y_true, y_pred):\n",
    "    metric_test = metric_test.update(yt, yp)\n",
    "metric_test"
   ]
  },
  {
   "cell_type": "code",
   "execution_count": null,
   "id": "f48c8c4b",
   "metadata": {},
   "outputs": [],
   "source": [
    "y_cov = data_cover['y']"
   ]
  },
  {
   "cell_type": "code",
   "execution_count": null,
   "id": "93e4953e",
   "metadata": {},
   "outputs": [],
   "source": [
    "y_cov.flatten().shape"
   ]
  },
  {
   "cell_type": "code",
   "execution_count": null,
   "id": "5fa1acf8",
   "metadata": {},
   "outputs": [],
   "source": [
    "data_cover_pd = pd.read_csv('C:/Users/e32cl/Documents/M2/P2 Data Stream/TP1/covtype.csv') "
   ]
  },
  {
   "cell_type": "code",
   "execution_count": null,
   "id": "67355d48",
   "metadata": {},
   "outputs": [],
   "source": [
    "X_pd = data_cover_pd.iloc[:,:-1]\n",
    "y_pd = data_cover_pd.iloc[:,-1]"
   ]
  },
  {
   "cell_type": "code",
   "execution_count": null,
   "id": "bfd3928c",
   "metadata": {},
   "outputs": [],
   "source": [
    "i=0\n",
    "for xi, yi in iter_pandas(X_pd,y_pd):\n",
    "    i=i+1\n",
    "    if i==10:\n",
    "        x10_pd = xi\n",
    "        y10_pd = yi"
   ]
  },
  {
   "cell_type": "code",
   "execution_count": null,
   "id": "abef0d92",
   "metadata": {},
   "outputs": [],
   "source": [
    "y10_pd"
   ]
  },
  {
   "cell_type": "code",
   "execution_count": null,
   "id": "ae74fbf6",
   "metadata": {},
   "outputs": [],
   "source": [
    "from river import anomaly\n",
    "from river import compose\n",
    "from river import datasets\n",
    "from river import metrics\n",
    "from river import preprocessing\n",
    "model = compose.Pipeline(preprocessing.MinMaxScaler(),anomaly.HalfSpaceTrees(seed=42))\n",
    "auc = metrics.ROCAUC()\n",
    "for x, y in datasets.CreditCard().take(2500):\n",
    "    score = model.score_one(x)\n",
    "    model = model.learn_one(x)\n",
    "    print(y,score)\n",
    "    auc = auc.update(y, score)\n",
    "    \n",
    "auc"
   ]
  },
  {
   "cell_type": "code",
   "execution_count": null,
   "id": "405cf789",
   "metadata": {},
   "outputs": [],
   "source": [
    "j = 0\n",
    "for x, y in datasets.CreditCard().take(2500):\n",
    "    j=j+1\n",
    "    if j==20:\n",
    "        x20 = x\n",
    "        y20 = y"
   ]
  },
  {
   "cell_type": "code",
   "execution_count": null,
   "id": "c19f9a11",
   "metadata": {},
   "outputs": [],
   "source": [
    "x20"
   ]
  },
  {
   "cell_type": "code",
   "execution_count": null,
   "id": "84b716ba",
   "metadata": {},
   "outputs": [],
   "source": [
    "from river import utils"
   ]
  },
  {
   "cell_type": "code",
   "execution_count": null,
   "id": "575ec4c7",
   "metadata": {},
   "outputs": [],
   "source": [
    "print(utils.VectorDict(x10_pd))\n",
    "print(2*utils.VectorDict(x10_pd))\n",
    "print(utils.dict2numpy(x10_pd).shape)\n",
    "print(utils.dict2numpy(x10_pd).reshape(1,-1))"
   ]
  },
  {
   "cell_type": "code",
   "execution_count": null,
   "id": "6401d24f",
   "metadata": {},
   "outputs": [],
   "source": [
    "a = np.array([[1,2,3],[4,5,6]])\n",
    "print(a.shape)\n",
    "print(a.reshape())\n",
    "print(a.reshape(1,-1).shape)"
   ]
  },
  {
   "cell_type": "code",
   "execution_count": null,
   "id": "9bbe41b3",
   "metadata": {},
   "outputs": [],
   "source": [
    "from pysad.utils import Data\n",
    "from pysad.utils import ArrayStreamer\n",
    "from tqdm import tqdm\n",
    "\n",
    "data = Data('C:/Users/e32cl/Documents/M2/P2 Data Stream/Projet/PySAD_to_River/data/')\n",
    "X_all, y_all = data.get_data(\"arrhythmia.mat\")  # Load Aryhytmia data.\n",
    "print(X_all.shape,y_all.shape)\n",
    "iterator = ArrayStreamer(shuffle=False)\n",
    "j = 0\n",
    "for X, y in tqdm(iterator.iter(X_all, y_all)):\n",
    "    j=j+1\n",
    "    if j==10:\n",
    "        X_pysad=X\n",
    "        y_pysad=y"
   ]
  },
  {
   "cell_type": "code",
   "execution_count": null,
   "id": "f17b94ea",
   "metadata": {},
   "outputs": [],
   "source": [
    "X_pysad.shape"
   ]
  },
  {
   "cell_type": "code",
   "execution_count": null,
   "id": "f929de8f",
   "metadata": {},
   "outputs": [],
   "source": [
    "X_pysad_reshaped = X_pysad.reshape(1,-1)\n",
    "print(X_pysad_reshaped.shape)"
   ]
  },
  {
   "cell_type": "code",
   "execution_count": null,
   "id": "7a9b0996",
   "metadata": {},
   "outputs": [],
   "source": [
    "np.array(list(x10.values())).shape"
   ]
  },
  {
   "cell_type": "code",
   "execution_count": null,
   "id": "ffa9375e",
   "metadata": {},
   "outputs": [],
   "source": [
    "array_X = utils.dict2numpy(x10)\n",
    "resh = array_X.reshape(1,-1)\n",
    "print(resh.shape)"
   ]
  },
  {
   "cell_type": "code",
   "execution_count": null,
   "id": "ee9637e6",
   "metadata": {
    "tags": []
   },
   "outputs": [],
   "source": [
    "model = LODA()\n",
    "ROCAUC = metrics.ROCAUC()\n",
    "for xi, yi in iter_array(X,y):\n",
    "    x_array = np.array(list(xi.values()))\n",
    "    y_array = np.array(list(yi.values()))\n",
    "    anomaly_score = model.score_one(x_array)\n",
    "    model = model.learn_one(x_array)\n",
    "    print(anomaly_score)\n",
    "    ROCAUC.update(y_array[0],anomaly_score[0])"
   ]
  },
  {
   "cell_type": "code",
   "execution_count": null,
   "id": "221f038f",
   "metadata": {},
   "outputs": [],
   "source": [
    "ROCAUC"
   ]
  },
  {
   "cell_type": "code",
   "execution_count": null,
   "id": "a6ccbb49-3a16-4cc7-8d53-dfeb0feca074",
   "metadata": {},
   "outputs": [],
   "source": []
  }
 ],
 "metadata": {
  "kernelspec": {
   "display_name": "Python 3",
   "language": "python",
   "name": "python3"
  },
  "language_info": {
   "codemirror_mode": {
    "name": "ipython",
    "version": 3
   },
   "file_extension": ".py",
   "mimetype": "text/x-python",
   "name": "python",
   "nbconvert_exporter": "python",
   "pygments_lexer": "ipython3",
   "version": "3.8.8"
  }
 },
 "nbformat": 4,
 "nbformat_minor": 5
}
