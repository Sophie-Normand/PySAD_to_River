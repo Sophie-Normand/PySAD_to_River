{
 "cells": [
  {
   "cell_type": "markdown",
   "id": "3a840730",
   "metadata": {},
   "source": [
    "## First tests PySAD package\n",
    "\n",
    "The objective of this notebook is to present the tests of 3 anomaly detection models (LODA, RS-Hash and xStream) using the package PySAD, on 4 different datasets.\n",
    "\n",
    "The retained performance metrics is ROC-AUC, saved with the time of execution for each test."
   ]
  },
  {
   "cell_type": "markdown",
   "id": "e0010404",
   "metadata": {},
   "source": [
    "### imports"
   ]
  },
  {
   "cell_type": "code",
   "execution_count": 1,
   "id": "d733d88f",
   "metadata": {},
   "outputs": [],
   "source": [
    "import pysad"
   ]
  },
  {
   "cell_type": "code",
   "execution_count": 2,
   "id": "c222010c",
   "metadata": {},
   "outputs": [],
   "source": [
    "from pysad.evaluation.metrics import AUROCMetric\n",
    "from pysad.models import LODA, RSHash, xStream\n",
    "from pysad.utils.data import Data\n",
    "from pysad.utils import ArrayStreamer\n",
    "from tqdm import tqdm"
   ]
  },
  {
   "cell_type": "code",
   "execution_count": 3,
   "id": "e2e160b9",
   "metadata": {},
   "outputs": [],
   "source": [
    "import scipy\n",
    "path = \"C:/Users/e32cl/Documents/M2/P2 Data Stream/Projet/projet_v2/PySAD_to_River/data/\"\n",
    "data_arr = scipy.io.loadmat(path+\"arrhythmia.mat\")\n",
    "data_opt = scipy.io.loadmat(path+\"optdigits.mat\") \n",
    "data_breast = scipy.io.loadmat(path+\"breastw.mat\") \n",
    "data_wine = scipy.io.loadmat(path+\"wine.mat\") "
   ]
  },
  {
   "cell_type": "code",
   "execution_count": 5,
   "id": "a1e2250a",
   "metadata": {},
   "outputs": [],
   "source": [
    "import numpy as np\n",
    "import time"
   ]
  },
  {
   "cell_type": "markdown",
   "id": "3e2cc29a",
   "metadata": {},
   "source": [
    "### Anomalies percentage"
   ]
  },
  {
   "cell_type": "code",
   "execution_count": 4,
   "id": "7891db24",
   "metadata": {},
   "outputs": [
    {
     "name": "stdout",
     "output_type": "stream",
     "text": [
      "(452, 1) 0.14601769911504425\n",
      "(5216, 1) 0.028757668711656442\n",
      "(683, 1) 0.34992679355783307\n",
      "(129, 1) 0.07751937984496124\n"
     ]
    }
   ],
   "source": [
    "print(data_arr['y'].shape, data_arr['y'].mean())\n",
    "print(data_opt['y'].shape, data_opt['y'].mean())\n",
    "print(data_breast['y'].shape, data_breast['y'].mean())\n",
    "print(data_wine['y'].shape, data_wine['y'].mean())"
   ]
  },
  {
   "cell_type": "markdown",
   "id": "d9ce1068",
   "metadata": {},
   "source": [
    "### Dataset arryhtmia"
   ]
  },
  {
   "cell_type": "code",
   "execution_count": 7,
   "id": "76f23d3e",
   "metadata": {},
   "outputs": [],
   "source": [
    "X_arr = data_arr['X']\n",
    "y_arr = data_arr['y']\n",
    "y_flat_arr = data_arr['y'].flatten()"
   ]
  },
  {
   "cell_type": "markdown",
   "id": "862b9f7b",
   "metadata": {},
   "source": [
    "#### LODA"
   ]
  },
  {
   "cell_type": "code",
   "execution_count": 8,
   "id": "b252cdde",
   "metadata": {},
   "outputs": [
    {
     "name": "stderr",
     "output_type": "stream",
     "text": [
      "452it [00:12, 37.59it/s]"
     ]
    },
    {
     "name": "stdout",
     "output_type": "stream",
     "text": [
      "Area under ROC metric is 0.49870466321243523.\n",
      "time (sec) :  12.041186094284058\n"
     ]
    },
    {
     "name": "stderr",
     "output_type": "stream",
     "text": [
      "\n"
     ]
    }
   ],
   "source": [
    "start = time.time()\n",
    "model = LODA()\n",
    "metric = AUROCMetric()\n",
    "iterator = ArrayStreamer(shuffle=False)\n",
    "\n",
    "for xi, yi in tqdm(iterator.iter(X_arr, y_arr)):\n",
    "    anomaly_score = model.fit_score_partial(xi)\n",
    "    metric.update(yi, anomaly_score)\n",
    "\n",
    "print(f\"Area under ROC metric is {metric.get()}.\")\n",
    "AUC_LODA_arr = metric.get()\n",
    "time_LODA_arr = time.time()-start\n",
    "print('time (sec) : ', time_LODA_arr)"
   ]
  },
  {
   "cell_type": "markdown",
   "id": "28e0a6f3",
   "metadata": {},
   "source": [
    "#### RS-Hash"
   ]
  },
  {
   "cell_type": "code",
   "execution_count": 9,
   "id": "04236c1c",
   "metadata": {},
   "outputs": [
    {
     "name": "stderr",
     "output_type": "stream",
     "text": [
      "452it [00:04, 91.12it/s] "
     ]
    },
    {
     "name": "stdout",
     "output_type": "stream",
     "text": [
      "Area under ROC metric is 0.736026063746271.\n",
      "time (sec) :  4.98899245262146\n"
     ]
    },
    {
     "name": "stderr",
     "output_type": "stream",
     "text": [
      "\n"
     ]
    }
   ],
   "source": [
    "start = time.time()\n",
    "model = RSHash(X_arr.min(axis=0), X_arr.max(axis=0))\n",
    "metric = AUROCMetric()\n",
    "iterator = ArrayStreamer(shuffle=False)\n",
    "\n",
    "for xi, yi in tqdm(iterator.iter(X_arr, y_arr)):\n",
    "    anomaly_score = model.fit_score_partial(xi)\n",
    "    # small score = more suspect to be an anomaly\n",
    "    metric.update(yi, -anomaly_score)\n",
    "\n",
    "print(f\"Area under ROC metric is {metric.get()}.\")\n",
    "AUC_RSHash_arr = metric.get()\n",
    "time_RSHash_arr = time.time()-start\n",
    "print('time (sec) : ', time_RSHash_arr)"
   ]
  },
  {
   "cell_type": "markdown",
   "id": "e684e91e",
   "metadata": {},
   "source": [
    "#### xStream"
   ]
  },
  {
   "cell_type": "code",
   "execution_count": 10,
   "id": "a0776ab9",
   "metadata": {},
   "outputs": [
    {
     "name": "stderr",
     "output_type": "stream",
     "text": [
      "452it [02:25,  3.10it/s]"
     ]
    },
    {
     "name": "stdout",
     "output_type": "stream",
     "text": [
      "Area under ROC metric is 0.7125333647354373.\n",
      "time (sec) :  145.93011689186096\n"
     ]
    },
    {
     "name": "stderr",
     "output_type": "stream",
     "text": [
      "\n"
     ]
    }
   ],
   "source": [
    "start = time.time()\n",
    "model = xStream()\n",
    "metric = AUROCMetric()\n",
    "iterator = ArrayStreamer(shuffle=False)\n",
    "\n",
    "for xi, yi in tqdm(iterator.iter(X_arr, y_arr)):\n",
    "    anomaly_score = model.fit_score_partial(xi)\n",
    "    metric.update(yi, anomaly_score)\n",
    "\n",
    "print(f\"Area under ROC metric is {metric.get()}.\")\n",
    "AUC_xstream_arr = metric.get()\n",
    "time_xstream_arr = time.time()-start\n",
    "print('time (sec) : ', time_xstream_arr)"
   ]
  },
  {
   "cell_type": "markdown",
   "id": "919b4f98",
   "metadata": {},
   "source": [
    "### Dataset wine"
   ]
  },
  {
   "cell_type": "code",
   "execution_count": 11,
   "id": "72a78c2a",
   "metadata": {},
   "outputs": [],
   "source": [
    "X_wine = data_wine['X']\n",
    "y_wine = data_wine['y']\n",
    "y_flat_arr = data_wine['y'].flatten()"
   ]
  },
  {
   "cell_type": "markdown",
   "id": "d15150cd",
   "metadata": {},
   "source": [
    "#### LODA"
   ]
  },
  {
   "cell_type": "code",
   "execution_count": 12,
   "id": "9f5b3dc9",
   "metadata": {},
   "outputs": [
    {
     "name": "stderr",
     "output_type": "stream",
     "text": [
      "129it [00:04, 27.40it/s]"
     ]
    },
    {
     "name": "stdout",
     "output_type": "stream",
     "text": [
      "Area under ROC metric is 0.7.\n",
      "time (sec) :  4.860857009887695\n"
     ]
    },
    {
     "name": "stderr",
     "output_type": "stream",
     "text": [
      "\n"
     ]
    }
   ],
   "source": [
    "start = time.time()\n",
    "model = LODA()\n",
    "metric = AUROCMetric()\n",
    "iterator = ArrayStreamer(shuffle=False)\n",
    "\n",
    "for xi, yi in tqdm(iterator.iter(X_wine, y_wine)):\n",
    "    anomaly_score = model.fit_score_partial(xi)\n",
    "    metric.update(yi, anomaly_score)\n",
    "\n",
    "print(f\"Area under ROC metric is {metric.get()}.\")\n",
    "AUC_LODA_wine = metric.get()\n",
    "time_LODA_wine = time.time()-start\n",
    "print('time (sec) : ', time_LODA_wine)"
   ]
  },
  {
   "cell_type": "markdown",
   "id": "17f6d597",
   "metadata": {},
   "source": [
    "#### RS-Hash"
   ]
  },
  {
   "cell_type": "code",
   "execution_count": 13,
   "id": "be492aea",
   "metadata": {
    "scrolled": true
   },
   "outputs": [
    {
     "name": "stderr",
     "output_type": "stream",
     "text": [
      "129it [00:02, 56.62it/s]\n"
     ]
    },
    {
     "name": "stdout",
     "output_type": "stream",
     "text": [
      "Area under ROC metric is 0.8285714285714285.\n",
      "time (sec) :  2.3164610862731934\n"
     ]
    }
   ],
   "source": [
    "start = time.time()\n",
    "model = RSHash(X_wine.min(axis=0), X_wine.max(axis=0))\n",
    "metric = AUROCMetric()\n",
    "iterator = ArrayStreamer(shuffle=False)\n",
    "\n",
    "for xi, yi in tqdm(iterator.iter(X_wine, y_wine)):\n",
    "    anomaly_score = model.fit_score_partial(xi)\n",
    "    metric.update(yi, -anomaly_score)\n",
    "\n",
    "print(f\"Area under ROC metric is {metric.get()}.\")\n",
    "AUC_RSHash_wine = metric.get()\n",
    "time_RSHash_wine = time.time()-start\n",
    "print('time (sec) : ', time_RSHash_wine)"
   ]
  },
  {
   "cell_type": "markdown",
   "id": "1046979e",
   "metadata": {},
   "source": [
    "#### xStream"
   ]
  },
  {
   "cell_type": "code",
   "execution_count": 14,
   "id": "664d3678",
   "metadata": {},
   "outputs": [
    {
     "name": "stderr",
     "output_type": "stream",
     "text": [
      "129it [00:25,  4.98it/s]"
     ]
    },
    {
     "name": "stdout",
     "output_type": "stream",
     "text": [
      "Area under ROC metric is 0.5033613445378151.\n",
      "time (sec) :  25.993932962417603\n"
     ]
    },
    {
     "name": "stderr",
     "output_type": "stream",
     "text": [
      "\n"
     ]
    }
   ],
   "source": [
    "start = time.time()\n",
    "model = xStream()\n",
    "metric = AUROCMetric()\n",
    "iterator = ArrayStreamer(shuffle=False)\n",
    "\n",
    "for xi, yi in tqdm(iterator.iter(X_wine, y_wine)):\n",
    "    anomaly_score = model.fit_score_partial(xi)\n",
    "    metric.update(yi, anomaly_score)\n",
    "\n",
    "print(f\"Area under ROC metric is {metric.get()}.\")\n",
    "AUC_xstream_wine = metric.get()\n",
    "time_xstream_wine = time.time()-start\n",
    "print('time (sec) : ', time_xstream_wine)"
   ]
  },
  {
   "cell_type": "markdown",
   "id": "ffaa2baa",
   "metadata": {},
   "source": [
    "### Dataset breast"
   ]
  },
  {
   "cell_type": "code",
   "execution_count": 15,
   "id": "6949e860",
   "metadata": {},
   "outputs": [],
   "source": [
    "X_breast = data_breast['X']\n",
    "y_breast = data_breast['y']\n",
    "y_flat_breast = data_breast['y'].flatten()"
   ]
  },
  {
   "cell_type": "markdown",
   "id": "fa856378",
   "metadata": {},
   "source": [
    "#### LODA"
   ]
  },
  {
   "cell_type": "code",
   "execution_count": 16,
   "id": "3f199e82",
   "metadata": {},
   "outputs": [
    {
     "name": "stderr",
     "output_type": "stream",
     "text": [
      "683it [00:19, 35.72it/s]"
     ]
    },
    {
     "name": "stdout",
     "output_type": "stream",
     "text": [
      "Area under ROC metric is 0.49436936936936937.\n",
      "time (sec) :  19.320590496063232\n"
     ]
    },
    {
     "name": "stderr",
     "output_type": "stream",
     "text": [
      "\n"
     ]
    }
   ],
   "source": [
    "start = time.time()\n",
    "model = LODA()\n",
    "metric = AUROCMetric()\n",
    "iterator = ArrayStreamer(shuffle=False)\n",
    "\n",
    "for xi, yi in tqdm(iterator.iter(X_breast, y_breast)):\n",
    "    anomaly_score = model.fit_score_partial(xi)\n",
    "    metric.update(yi, anomaly_score)\n",
    "\n",
    "print(f\"Area under ROC metric is {metric.get()}.\")\n",
    "AUC_LODA_breast = metric.get()\n",
    "time_LODA_breast = time.time()-start\n",
    "print('time (sec) : ', time_LODA_breast)"
   ]
  },
  {
   "cell_type": "markdown",
   "id": "602a889a",
   "metadata": {},
   "source": [
    "#### RS-Hash"
   ]
  },
  {
   "cell_type": "code",
   "execution_count": 17,
   "id": "c6e9c983",
   "metadata": {},
   "outputs": [
    {
     "name": "stderr",
     "output_type": "stream",
     "text": [
      "683it [00:08, 79.78it/s] "
     ]
    },
    {
     "name": "stdout",
     "output_type": "stream",
     "text": [
      "Area under ROC metric is 0.9707772626182668.\n",
      "time (sec) :  8.58812665939331\n"
     ]
    },
    {
     "name": "stderr",
     "output_type": "stream",
     "text": [
      "\n"
     ]
    }
   ],
   "source": [
    "start = time.time()\n",
    "model = RSHash(X_breast.min(axis=0), X_breast.max(axis=0))\n",
    "metric = AUROCMetric()\n",
    "\n",
    "for xi, yi in tqdm(iterator.iter(X_breast, y_breast)):\n",
    "    anomaly_score = model.fit_score_partial(xi)\n",
    "    metric.update(yi, -anomaly_score)\n",
    "\n",
    "print(f\"Area under ROC metric is {metric.get()}.\")\n",
    "AUC_RSHash_breast = metric.get()\n",
    "time_RSHash_breast = time.time()-start\n",
    "print('time (sec) : ', time_RSHash_breast)"
   ]
  },
  {
   "cell_type": "markdown",
   "id": "a300ddea",
   "metadata": {},
   "source": [
    "#### xStream"
   ]
  },
  {
   "cell_type": "code",
   "execution_count": 18,
   "id": "a95b2597",
   "metadata": {},
   "outputs": [
    {
     "name": "stderr",
     "output_type": "stream",
     "text": [
      "683it [02:15,  5.03it/s]"
     ]
    },
    {
     "name": "stdout",
     "output_type": "stream",
     "text": [
      "Area under ROC metric is 0.94319424026537.\n",
      "time (sec) :  135.78693413734436\n"
     ]
    },
    {
     "name": "stderr",
     "output_type": "stream",
     "text": [
      "\n"
     ]
    }
   ],
   "source": [
    "start = time.time()\n",
    "model = xStream()\n",
    "metric = AUROCMetric()\n",
    "\n",
    "for xi, yi in tqdm(iterator.iter(X_breast, y_breast)):\n",
    "    anomaly_score = model.fit_score_partial(xi)\n",
    "    metric.update(yi, anomaly_score)\n",
    "\n",
    "print(f\"Area under ROC metric is {metric.get()}.\")\n",
    "AUC_xstream_breast = metric.get()\n",
    "time_xstream_breast = time.time()-start\n",
    "print('time (sec) : ', time_xstream_breast)"
   ]
  },
  {
   "cell_type": "markdown",
   "id": "bf3d5fde",
   "metadata": {},
   "source": [
    "### Dataset optdigits"
   ]
  },
  {
   "cell_type": "code",
   "execution_count": 19,
   "id": "976ef0de",
   "metadata": {},
   "outputs": [],
   "source": [
    "X_opt = data_opt['X']\n",
    "y_opt = data_opt['y']\n",
    "y_flat_opt = data_opt['y'].flatten()"
   ]
  },
  {
   "cell_type": "markdown",
   "id": "aae784fb",
   "metadata": {},
   "source": [
    "#### LODA"
   ]
  },
  {
   "cell_type": "code",
   "execution_count": 20,
   "id": "51bf736c",
   "metadata": {},
   "outputs": [
    {
     "name": "stderr",
     "output_type": "stream",
     "text": [
      "5216it [02:16, 38.21it/s]"
     ]
    },
    {
     "name": "stdout",
     "output_type": "stream",
     "text": [
      "Area under ROC metric is 0.4997039084090012.\n",
      "time (sec) :  136.69508004188538\n"
     ]
    },
    {
     "name": "stderr",
     "output_type": "stream",
     "text": [
      "\n"
     ]
    }
   ],
   "source": [
    "start = time.time()\n",
    "model = LODA()\n",
    "metric = AUROCMetric()\n",
    "iterator = ArrayStreamer(shuffle=False)\n",
    "\n",
    "for xi, yi in tqdm(iterator.iter(X_opt, y_opt)):\n",
    "    anomaly_score = model.fit_score_partial(xi)\n",
    "    metric.update(yi, anomaly_score)\n",
    "\n",
    "print(f\"Area under ROC metric is {metric.get()}.\")\n",
    "AUC_LODA_opt = metric.get()\n",
    "time_LODA_opt = time.time()-start\n",
    "print('time (sec) : ', time_LODA_opt)"
   ]
  },
  {
   "cell_type": "markdown",
   "id": "69219684",
   "metadata": {},
   "source": [
    "#### RS-Hash"
   ]
  },
  {
   "cell_type": "code",
   "execution_count": 21,
   "id": "f9d8423a",
   "metadata": {},
   "outputs": [
    {
     "name": "stderr",
     "output_type": "stream",
     "text": [
      "5216it [01:01, 85.09it/s] "
     ]
    },
    {
     "name": "stdout",
     "output_type": "stream",
     "text": [
      "Area under ROC metric is 0.5126727200947494.\n",
      "time (sec) :  61.35401439666748\n"
     ]
    },
    {
     "name": "stderr",
     "output_type": "stream",
     "text": [
      "\n"
     ]
    }
   ],
   "source": [
    "start = time.time()\n",
    "model = RSHash(X_opt.min(axis=0),X_opt.max(axis=0))\n",
    "metric = AUROCMetric()\n",
    "\n",
    "for xi, yi in tqdm(iterator.iter(X_opt, y_opt)):\n",
    "    anomaly_score = model.fit_score_partial(xi)\n",
    "    metric.update(yi, -anomaly_score)\n",
    "\n",
    "print(f\"Area under ROC metric is {metric.get()}.\")\n",
    "AUC_RSHash_opt = metric.get()\n",
    "time_RSHash_opt = time.time()-start\n",
    "print('time (sec) : ', time_RSHash_opt)"
   ]
  },
  {
   "cell_type": "markdown",
   "id": "505a3143",
   "metadata": {},
   "source": [
    "#### xStream"
   ]
  },
  {
   "cell_type": "code",
   "execution_count": 22,
   "id": "470fe5f2",
   "metadata": {},
   "outputs": [
    {
     "name": "stderr",
     "output_type": "stream",
     "text": [
      "5216it [21:35,  4.03it/s]"
     ]
    },
    {
     "name": "stdout",
     "output_type": "stream",
     "text": [
      "Area under ROC metric is 0.663018160284248.\n",
      "time (sec) :  1295.6687059402466\n"
     ]
    },
    {
     "name": "stderr",
     "output_type": "stream",
     "text": [
      "\n"
     ]
    }
   ],
   "source": [
    "start = time.time()\n",
    "model = xStream()\n",
    "metric = AUROCMetric()\n",
    "\n",
    "for xi, yi in tqdm(iterator.iter(X_opt, y_opt)):\n",
    "    anomaly_score = model.fit_score_partial(xi)\n",
    "    metric.update(yi, anomaly_score)\n",
    "\n",
    "print(f\"Area under ROC metric is {metric.get()}.\")\n",
    "AUC_xstream_opt = metric.get()\n",
    "time_xstream_opt = time.time()-start\n",
    "print('time (sec) : ', time_xstream_opt)"
   ]
  }
 ],
 "metadata": {
  "kernelspec": {
   "display_name": "Python 3 (ipykernel)",
   "language": "python",
   "name": "python3"
  },
  "language_info": {
   "codemirror_mode": {
    "name": "ipython",
    "version": 3
   },
   "file_extension": ".py",
   "mimetype": "text/x-python",
   "name": "python",
   "nbconvert_exporter": "python",
   "pygments_lexer": "ipython3",
   "version": "3.8.15"
  }
 },
 "nbformat": 4,
 "nbformat_minor": 5
}
