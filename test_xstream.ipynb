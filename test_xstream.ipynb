{
 "cells": [
  {
   "cell_type": "code",
   "execution_count": 1,
   "id": "9fa97c23-4141-47ea-9a7b-7786c52e0447",
   "metadata": {},
   "outputs": [],
   "source": [
    "import numpy as np\n",
    "import pandas as pd"
   ]
  },
  {
   "cell_type": "code",
   "execution_count": 2,
   "id": "4028f253-e307-409e-86dc-0766e7ccd116",
   "metadata": {},
   "outputs": [],
   "source": [
    "import scipy.io"
   ]
  },
  {
   "cell_type": "code",
   "execution_count": 3,
   "id": "84ad8201-97cf-4eea-a5e6-5302880ad1d6",
   "metadata": {},
   "outputs": [],
   "source": [
    "data = scipy.io.loadmat('/Users/Sophie/Library/CloudStorage/OneDrive-Personnel/IP/Data Stream Processing/PySAD_to_River/data/arrhythmia.mat') "
   ]
  },
  {
   "cell_type": "code",
   "execution_count": 4,
   "id": "b484cc24-d75d-486f-a3c0-f4c3020305a2",
   "metadata": {},
   "outputs": [],
   "source": [
    "X = data['X']\n",
    "y = data['y']"
   ]
  },
  {
   "cell_type": "code",
   "execution_count": 5,
   "id": "517fb943-0a69-4960-9732-92ad77e70e9e",
   "metadata": {},
   "outputs": [],
   "source": [
    "from anomaly.base import AnomalyDetector"
   ]
  },
  {
   "cell_type": "markdown",
   "id": "aa8f0632-8977-4ffb-9b15-df80d1df006f",
   "metadata": {},
   "source": [
    "## Import our model"
   ]
  },
  {
   "cell_type": "code",
   "execution_count": 6,
   "id": "90ec12c0-3853-4479-9730-7b50d153dcc0",
   "metadata": {},
   "outputs": [],
   "source": [
    "from models.xstream import xStream"
   ]
  },
  {
   "cell_type": "code",
   "execution_count": 15,
   "id": "a92e4702-36bd-4cb3-a018-cc596b115cbc",
   "metadata": {},
   "outputs": [
    {
     "name": "stdout",
     "output_type": "stream",
     "text": [
      "Collecting pysad\n",
      "  Downloading pysad-0.1.1-py3-none-any.whl (73 kB)\n",
      "\u001b[K     |████████████████████████████████| 73 kB 4.2 MB/s eta 0:00:011\n",
      "\u001b[?25hRequirement already satisfied: scipy>=1.4.1 in /opt/anaconda3/lib/python3.8/site-packages (from pysad) (1.9.3)\n",
      "Requirement already satisfied: scikit-learn>=0.23.2 in /opt/anaconda3/lib/python3.8/site-packages (from pysad) (0.24.1)\n",
      "Requirement already satisfied: numpy>=1.18.5 in /opt/anaconda3/lib/python3.8/site-packages (from pysad) (1.23.4)\n",
      "Collecting pyod>=0.7.7.1\n",
      "  Downloading pyod-1.0.6.tar.gz (141 kB)\n",
      "\u001b[K     |████████████████████████████████| 141 kB 22.6 MB/s eta 0:00:01\n",
      "\u001b[?25hRequirement already satisfied: joblib in /opt/anaconda3/lib/python3.8/site-packages (from pyod>=0.7.7.1->pysad) (1.0.1)\n",
      "Requirement already satisfied: matplotlib in /opt/anaconda3/lib/python3.8/site-packages (from pyod>=0.7.7.1->pysad) (3.3.4)\n",
      "Requirement already satisfied: numba>=0.51 in /opt/anaconda3/lib/python3.8/site-packages (from pyod>=0.7.7.1->pysad) (0.53.1)\n",
      "Requirement already satisfied: six in /opt/anaconda3/lib/python3.8/site-packages (from pyod>=0.7.7.1->pysad) (1.15.0)\n",
      "Requirement already satisfied: statsmodels in /opt/anaconda3/lib/python3.8/site-packages (from pyod>=0.7.7.1->pysad) (0.12.2)\n",
      "Requirement already satisfied: setuptools in /opt/anaconda3/lib/python3.8/site-packages (from numba>=0.51->pyod>=0.7.7.1->pysad) (52.0.0.post20210125)\n",
      "Requirement already satisfied: llvmlite<0.37,>=0.36.0rc1 in /opt/anaconda3/lib/python3.8/site-packages (from numba>=0.51->pyod>=0.7.7.1->pysad) (0.36.0)\n",
      "Requirement already satisfied: threadpoolctl>=2.0.0 in /opt/anaconda3/lib/python3.8/site-packages (from scikit-learn>=0.23.2->pysad) (2.1.0)\n",
      "Requirement already satisfied: kiwisolver>=1.0.1 in /opt/anaconda3/lib/python3.8/site-packages (from matplotlib->pyod>=0.7.7.1->pysad) (1.3.1)\n",
      "Requirement already satisfied: pyparsing!=2.0.4,!=2.1.2,!=2.1.6,>=2.0.3 in /opt/anaconda3/lib/python3.8/site-packages (from matplotlib->pyod>=0.7.7.1->pysad) (2.4.7)\n",
      "Requirement already satisfied: cycler>=0.10 in /opt/anaconda3/lib/python3.8/site-packages (from matplotlib->pyod>=0.7.7.1->pysad) (0.10.0)\n",
      "Requirement already satisfied: pillow>=6.2.0 in /opt/anaconda3/lib/python3.8/site-packages (from matplotlib->pyod>=0.7.7.1->pysad) (8.2.0)\n",
      "Requirement already satisfied: python-dateutil>=2.1 in /opt/anaconda3/lib/python3.8/site-packages (from matplotlib->pyod>=0.7.7.1->pysad) (2.8.1)\n",
      "Requirement already satisfied: patsy>=0.5 in /opt/anaconda3/lib/python3.8/site-packages (from statsmodels->pyod>=0.7.7.1->pysad) (0.5.1)\n",
      "Requirement already satisfied: pandas>=0.21 in /opt/anaconda3/lib/python3.8/site-packages (from statsmodels->pyod>=0.7.7.1->pysad) (1.3.2)\n",
      "Requirement already satisfied: pytz>=2017.3 in /opt/anaconda3/lib/python3.8/site-packages (from pandas>=0.21->statsmodels->pyod>=0.7.7.1->pysad) (2021.1)\n",
      "Building wheels for collected packages: pyod\n",
      "  Building wheel for pyod (setup.py) ... \u001b[?25ldone\n",
      "\u001b[?25h  Created wheel for pyod: filename=pyod-1.0.6-py3-none-any.whl size=175085 sha256=29b417165bce37ef2f26b5cc154e2e4633380243a64db998cb13f15226256794\n",
      "  Stored in directory: /Users/Sophie/Library/Caches/pip/wheels/98/93/e6/6d40410d9635ecde42d06041a1ba7f2ee7396e036fcf702e73\n",
      "Successfully built pyod\n",
      "Installing collected packages: pyod, pysad\n",
      "Successfully installed pyod-1.0.6 pysad-0.1.1\n",
      "Note: you may need to restart the kernel to use updated packages.\n"
     ]
    }
   ],
   "source": [
    "pip install pysad"
   ]
  },
  {
   "cell_type": "code",
   "execution_count": 17,
   "id": "05333f37-d0b6-4d0d-81b7-4d48ecc298c5",
   "metadata": {},
   "outputs": [
    {
     "name": "stdout",
     "output_type": "stream",
     "text": [
      "Collecting combo\n",
      "  Downloading combo-0.1.3.tar.gz (38 kB)\n",
      "Requirement already satisfied: joblib in /opt/anaconda3/lib/python3.8/site-packages (from combo) (1.0.1)\n",
      "Requirement already satisfied: matplotlib in /opt/anaconda3/lib/python3.8/site-packages (from combo) (3.3.4)\n",
      "Requirement already satisfied: numpy>=1.13 in /opt/anaconda3/lib/python3.8/site-packages (from combo) (1.23.4)\n",
      "Requirement already satisfied: numba>=0.35 in /opt/anaconda3/lib/python3.8/site-packages (from combo) (0.53.1)\n",
      "Requirement already satisfied: pyod in /opt/anaconda3/lib/python3.8/site-packages (from combo) (1.0.6)\n",
      "Requirement already satisfied: scipy in /opt/anaconda3/lib/python3.8/site-packages (from combo) (1.9.3)\n",
      "Requirement already satisfied: scikit_learn>=0.20 in /opt/anaconda3/lib/python3.8/site-packages (from combo) (0.24.1)\n",
      "Requirement already satisfied: llvmlite<0.37,>=0.36.0rc1 in /opt/anaconda3/lib/python3.8/site-packages (from numba>=0.35->combo) (0.36.0)\n",
      "Requirement already satisfied: setuptools in /opt/anaconda3/lib/python3.8/site-packages (from numba>=0.35->combo) (52.0.0.post20210125)\n",
      "Requirement already satisfied: threadpoolctl>=2.0.0 in /opt/anaconda3/lib/python3.8/site-packages (from scikit_learn>=0.20->combo) (2.1.0)\n",
      "Requirement already satisfied: cycler>=0.10 in /opt/anaconda3/lib/python3.8/site-packages (from matplotlib->combo) (0.10.0)\n",
      "Requirement already satisfied: kiwisolver>=1.0.1 in /opt/anaconda3/lib/python3.8/site-packages (from matplotlib->combo) (1.3.1)\n",
      "Requirement already satisfied: pyparsing!=2.0.4,!=2.1.2,!=2.1.6,>=2.0.3 in /opt/anaconda3/lib/python3.8/site-packages (from matplotlib->combo) (2.4.7)\n",
      "Requirement already satisfied: pillow>=6.2.0 in /opt/anaconda3/lib/python3.8/site-packages (from matplotlib->combo) (8.2.0)\n",
      "Requirement already satisfied: python-dateutil>=2.1 in /opt/anaconda3/lib/python3.8/site-packages (from matplotlib->combo) (2.8.1)\n",
      "Requirement already satisfied: six in /opt/anaconda3/lib/python3.8/site-packages (from cycler>=0.10->matplotlib->combo) (1.15.0)\n",
      "Requirement already satisfied: statsmodels in /opt/anaconda3/lib/python3.8/site-packages (from pyod->combo) (0.12.2)\n",
      "Requirement already satisfied: patsy>=0.5 in /opt/anaconda3/lib/python3.8/site-packages (from statsmodels->pyod->combo) (0.5.1)\n",
      "Requirement already satisfied: pandas>=0.21 in /opt/anaconda3/lib/python3.8/site-packages (from statsmodels->pyod->combo) (1.3.2)\n",
      "Requirement already satisfied: pytz>=2017.3 in /opt/anaconda3/lib/python3.8/site-packages (from pandas>=0.21->statsmodels->pyod->combo) (2021.1)\n",
      "Building wheels for collected packages: combo\n",
      "  Building wheel for combo (setup.py) ... \u001b[?25ldone\n",
      "\u001b[?25h  Created wheel for combo: filename=combo-0.1.3-py3-none-any.whl size=42871 sha256=149bdd0cd9c0f93168da1d2bab08d37a77a27d44c2e4aa3715b8a0f5485b0c55\n",
      "  Stored in directory: /Users/Sophie/Library/Caches/pip/wheels/ec/44/39/0667fea44a2dfe692cc2a51f0f79ea49b9dee7def53594ef2e\n",
      "Successfully built combo\n",
      "Installing collected packages: combo\n",
      "Successfully installed combo-0.1.3\n",
      "Note: you may need to restart the kernel to use updated packages.\n"
     ]
    }
   ],
   "source": [
    "pip install combo"
   ]
  },
  {
   "cell_type": "code",
   "execution_count": 25,
   "id": "dcb1833c-ab4c-4f0e-bc8a-b2f7d2030cf5",
   "metadata": {},
   "outputs": [
    {
     "name": "stdout",
     "output_type": "stream",
     "text": [
      "Collecting mmh3\n",
      "  Downloading mmh3-3.0.0-cp38-cp38-macosx_10_9_x86_64.whl (12 kB)\n",
      "Installing collected packages: mmh3\n",
      "Successfully installed mmh3-3.0.0\n",
      "Note: you may need to restart the kernel to use updated packages.\n"
     ]
    }
   ],
   "source": [
    "pip install mmh3"
   ]
  },
  {
   "cell_type": "code",
   "execution_count": 7,
   "id": "d7a44023-4bae-4989-876d-b5fb74e706d2",
   "metadata": {},
   "outputs": [],
   "source": [
    "from pysad.transform.probability_calibration import ConformalProbabilityCalibrator"
   ]
  },
  {
   "cell_type": "code",
   "execution_count": 8,
   "id": "cdb742a0-75b4-41eb-90d3-6953c8370597",
   "metadata": {},
   "outputs": [],
   "source": [
    "from river.stream import iter_array"
   ]
  },
  {
   "cell_type": "code",
   "execution_count": 9,
   "id": "3e8980b7-505a-442c-b76a-3aae9d19ec13",
   "metadata": {},
   "outputs": [],
   "source": [
    "np.random.seed(61)"
   ]
  },
  {
   "cell_type": "code",
   "execution_count": 10,
   "id": "02c91580-2731-4439-b672-2b2d934dad0e",
   "metadata": {},
   "outputs": [
    {
     "name": "stdout",
     "output_type": "stream",
     "text": [
      "Alert: 26 data point is anomalous.\n",
      "Alert: 51 data point is anomalous.\n",
      "Alert: 52 data point is anomalous.\n",
      "Alert: 53 data point is anomalous.\n",
      "Alert: 56 data point is anomalous.\n",
      "Alert: 59 data point is anomalous.\n",
      "Alert: 63 data point is anomalous.\n",
      "Alert: 64 data point is anomalous.\n",
      "Alert: 67 data point is anomalous.\n",
      "Alert: 74 data point is anomalous.\n",
      "Alert: 83 data point is anomalous.\n",
      "Alert: 136 data point is anomalous.\n",
      "Alert: 150 data point is anomalous.\n",
      "Alert: 202 data point is anomalous.\n",
      "Alert: 226 data point is anomalous.\n",
      "Alert: 229 data point is anomalous.\n",
      "Alert: 230 data point is anomalous.\n",
      "Alert: 232 data point is anomalous.\n",
      "Alert: 234 data point is anomalous.\n",
      "Alert: 235 data point is anomalous.\n",
      "Alert: 238 data point is anomalous.\n",
      "Alert: 240 data point is anomalous.\n",
      "Alert: 242 data point is anomalous.\n",
      "Alert: 246 data point is anomalous.\n",
      "Alert: 260 data point is anomalous.\n",
      "Alert: 265 data point is anomalous.\n",
      "Alert: 266 data point is anomalous.\n",
      "Alert: 267 data point is anomalous.\n",
      "Alert: 272 data point is anomalous.\n",
      "Alert: 275 data point is anomalous.\n",
      "Alert: 276 data point is anomalous.\n",
      "Alert: 327 data point is anomalous.\n",
      "Alert: 328 data point is anomalous.\n",
      "Alert: 333 data point is anomalous.\n",
      "Alert: 335 data point is anomalous.\n",
      "Alert: 341 data point is anomalous.\n",
      "Alert: 343 data point is anomalous.\n",
      "Alert: 344 data point is anomalous.\n",
      "Alert: 345 data point is anomalous.\n",
      "Alert: 351 data point is anomalous.\n",
      "Alert: 423 data point is anomalous.\n"
     ]
    }
   ],
   "source": [
    "model = xStream()\n",
    "calibrator = ConformalProbabilityCalibrator(windowed=True, window_size=300)\n",
    "i=1\n",
    "for xi, yi in iter_array(X,y):\n",
    "    i += 1\n",
    "    x_array = np.array(list(xi.values()))\n",
    "    y_array = np.array(list(yi.values()))\n",
    "    anomaly_score = model.score_one(x_array)\n",
    "    model = model.learn_one(x_array)\n",
    "#    anomaly_score = model.learn_score_one(x_array)\n",
    "    \n",
    "    calibrated_score = calibrator.fit_transform(anomaly_score)  # Fit & calibrate score.\n",
    "\n",
    "    # Output if the instance is anomalous.\n",
    "    if calibrated_score > 0.95:  # If probability of being normal is less than 5%.\n",
    "        print(f\"Alert: {i} data point is anomalous.\")\n",
    "#        print(xi)"
   ]
  },
  {
   "cell_type": "markdown",
   "id": "c66ad0c5-7927-4b9c-aa9b-7d2adde471b4",
   "metadata": {},
   "source": [
    "score then learn (River):\n",
    "Alert: 26 data point is anomalous.\n",
    "Alert: 52 data point is anomalous.\n",
    "Alert: 53 data point is anomalous.\n",
    "Alert: 54 data point is anomalous.\n",
    "Alert: 59 data point is anomalous.\n",
    "Alert: 63 data point is anomalous.\n",
    "Alert: 64 data point is anomalous.\n",
    "Alert: 67 data point is anomalous.\n",
    "Alert: 84 data point is anomalous.\n",
    "Alert: 95 data point is anomalous.\n",
    "Alert: 136 data point is anomalous.\n",
    "Alert: 150 data point is anomalous.\n",
    "Alert: 151 data point is anomalous.\n",
    "Alert: 202 data point is anomalous.\n",
    "Alert: 205 data point is anomalous.\n",
    "Alert: 211 data point is anomalous.\n",
    "Alert: 217 data point is anomalous.\n",
    "Alert: 222 data point is anomalous.\n",
    "Alert: 226 data point is anomalous.\n",
    "Alert: 228 data point is anomalous.\n",
    "Alert: 229 data point is anomalous.\n",
    "Alert: 230 data point is anomalous.\n",
    "Alert: 232 data point is anomalous.\n",
    "Alert: 235 data point is anomalous.\n",
    "Alert: 238 data point is anomalous.\n",
    "Alert: 240 data point is anomalous.\n",
    "Alert: 242 data point is anomalous.\n",
    "Alert: 244 data point is anomalous.\n",
    "Alert: 246 data point is anomalous.\n",
    "Alert: 264 data point is anomalous.\n",
    "Alert: 266 data point is anomalous.\n",
    "Alert: 267 data point is anomalous.\n",
    "Alert: 288 data point is anomalous.\n",
    "Alert: 289 data point is anomalous.\n",
    "Alert: 292 data point is anomalous.\n",
    "Alert: 327 data point is anomalous.\n",
    "Alert: 328 data point is anomalous.\n",
    "Alert: 335 data point is anomalous.\n",
    "Alert: 339 data point is anomalous.\n",
    "Alert: 341 data point is anomalous.\n",
    "Alert: 342 data point is anomalous.\n",
    "Alert: 343 data point is anomalous.\n",
    "Alert: 344 data point is anomalous.\n",
    "Alert: 345 data point is anomalous.\n",
    "Alert: 348 data point is anomalous.\n",
    "Alert: 351 data point is anomalous."
   ]
  },
  {
   "cell_type": "markdown",
   "id": "41922905-6523-4215-b602-a182745b1aff",
   "metadata": {},
   "source": [
    "learn then score (PySAD):\n",
    "Alert: 24 data point is anomalous.\n",
    "Alert: 51 data point is anomalous.\n",
    "Alert: 52 data point is anomalous.\n",
    "Alert: 53 data point is anomalous.\n",
    "Alert: 67 data point is anomalous.\n",
    "Alert: 76 data point is anomalous.\n",
    "Alert: 83 data point is anomalous.\n",
    "Alert: 126 data point is anomalous.\n",
    "Alert: 136 data point is anomalous.\n",
    "Alert: 150 data point is anomalous.\n",
    "Alert: 205 data point is anomalous.\n",
    "Alert: 211 data point is anomalous.\n",
    "Alert: 217 data point is anomalous.\n",
    "Alert: 222 data point is anomalous.\n",
    "Alert: 226 data point is anomalous.\n",
    "Alert: 228 data point is anomalous.\n",
    "Alert: 229 data point is anomalous.\n",
    "Alert: 232 data point is anomalous.\n",
    "Alert: 234 data point is anomalous.\n",
    "Alert: 235 data point is anomalous.\n",
    "Alert: 238 data point is anomalous.\n",
    "Alert: 240 data point is anomalous.\n",
    "Alert: 242 data point is anomalous.\n",
    "Alert: 246 data point is anomalous.\n",
    "Alert: 249 data point is anomalous.\n",
    "Alert: 266 data point is anomalous.\n",
    "Alert: 276 data point is anomalous.\n",
    "Alert: 326 data point is anomalous.\n",
    "Alert: 327 data point is anomalous.\n",
    "Alert: 328 data point is anomalous.\n",
    "Alert: 330 data point is anomalous.\n",
    "Alert: 333 data point is anomalous.\n",
    "Alert: 334 data point is anomalous.\n",
    "Alert: 335 data point is anomalous.\n",
    "Alert: 338 data point is anomalous.\n",
    "Alert: 339 data point is anomalous.\n",
    "Alert: 340 data point is anomalous.\n",
    "Alert: 341 data point is anomalous.\n",
    "Alert: 342 data point is anomalous.\n",
    "Alert: 343 data point is anomalous.\n",
    "Alert: 344 data point is anomalous.\n",
    "Alert: 347 data point is anomalous.\n",
    "Alert: 348 data point is anomalous."
   ]
  },
  {
   "cell_type": "markdown",
   "id": "35803024-b916-4590-80a8-803e81920657",
   "metadata": {},
   "source": [
    "## PySAD version"
   ]
  },
  {
   "cell_type": "code",
   "execution_count": 11,
   "id": "94476621-f597-4b2e-b436-99de7209a15e",
   "metadata": {},
   "outputs": [],
   "source": [
    "from pysad.models import xStream\n",
    "from pysad.transform.probability_calibration import ConformalProbabilityCalibrator\n",
    "from pysad.utils import Data\n",
    "import numpy as np"
   ]
  },
  {
   "cell_type": "code",
   "execution_count": 13,
   "id": "b33f6886-6e1f-4a74-804e-96f6c3724bde",
   "metadata": {},
   "outputs": [],
   "source": [
    "np.random.seed(61)"
   ]
  },
  {
   "cell_type": "code",
   "execution_count": 14,
   "id": "677da3f6-6516-49f8-aa87-c069b077a2aa",
   "metadata": {},
   "outputs": [
    {
     "name": "stdout",
     "output_type": "stream",
     "text": [
      "Alert: 21th data point is anomalous.\n",
      "Alert: 23th data point is anomalous.\n",
      "Alert: 49th data point is anomalous.\n",
      "Alert: 50th data point is anomalous.\n",
      "Alert: 53th data point is anomalous.\n",
      "Alert: 62th data point is anomalous.\n",
      "Alert: 64th data point is anomalous.\n",
      "Alert: 71th data point is anomalous.\n",
      "Alert: 80th data point is anomalous.\n",
      "Alert: 83th data point is anomalous.\n",
      "Alert: 87th data point is anomalous.\n",
      "Alert: 96th data point is anomalous.\n",
      "Alert: 100th data point is anomalous.\n",
      "Alert: 109th data point is anomalous.\n",
      "Alert: 132th data point is anomalous.\n",
      "Alert: 141th data point is anomalous.\n",
      "Alert: 261th data point is anomalous.\n",
      "Alert: 265th data point is anomalous.\n",
      "Alert: 274th data point is anomalous.\n",
      "Alert: 275th data point is anomalous.\n",
      "Alert: 278th data point is anomalous.\n",
      "Alert: 281th data point is anomalous.\n",
      "Alert: 286th data point is anomalous.\n",
      "Alert: 289th data point is anomalous.\n",
      "Alert: 297th data point is anomalous.\n",
      "Alert: 298th data point is anomalous.\n",
      "Alert: 342th data point is anomalous.\n",
      "Alert: 381th data point is anomalous.\n",
      "Alert: 382th data point is anomalous.\n",
      "Alert: 389th data point is anomalous.\n",
      "Alert: 406th data point is anomalous.\n",
      "Alert: 408th data point is anomalous.\n",
      "Alert: 421th data point is anomalous.\n"
     ]
    }
   ],
   "source": [
    "model = xStream()  # Init model.\n",
    "calibrator = ConformalProbabilityCalibrator(windowed=True, window_size=300)  # Init probability calibrator.\n",
    "streaming_data = Data().get_iterator(\"/Users/Sophie/Library/CloudStorage/OneDrive-Personnel/IP/Data Stream Processing/PySAD_to_River/data/arrhythmia.mat\")  # Get streamer.\n",
    "\n",
    "for i, (x, y_true) in enumerate(streaming_data):  # Stream data.\n",
    "    anomaly_score = model.fit_score_partial(x)  # Fit to an instance x and score it.\n",
    "\n",
    "    calibrated_score = calibrator.fit_transform(anomaly_score)  # Fit & calibrate score.\n",
    "\n",
    "    # Output if the instance is anomalous.\n",
    "    if calibrated_score > 0.95:  # If probability of being normal is less than 5%.\n",
    "        print(f\"Alert: {i}th data point is anomalous.\")"
   ]
  },
  {
   "cell_type": "code",
   "execution_count": null,
   "id": "cfb55a91-2e81-4187-b6ef-27905d507a25",
   "metadata": {},
   "outputs": [],
   "source": []
  },
  {
   "cell_type": "code",
   "execution_count": null,
   "id": "a37d77f4-2761-4fee-abda-f3e54a3a9959",
   "metadata": {},
   "outputs": [],
   "source": []
  }
 ],
 "metadata": {
  "kernelspec": {
   "display_name": "Python 3",
   "language": "python",
   "name": "python3"
  },
  "language_info": {
   "codemirror_mode": {
    "name": "ipython",
    "version": 3
   },
   "file_extension": ".py",
   "mimetype": "text/x-python",
   "name": "python",
   "nbconvert_exporter": "python",
   "pygments_lexer": "ipython3",
   "version": "3.8.8"
  }
 },
 "nbformat": 4,
 "nbformat_minor": 5
}
