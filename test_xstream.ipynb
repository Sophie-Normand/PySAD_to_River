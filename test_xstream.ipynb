{
 "cells": [
  {
   "cell_type": "code",
   "execution_count": 1,
   "id": "9fa97c23-4141-47ea-9a7b-7786c52e0447",
   "metadata": {},
   "outputs": [],
   "source": [
    "import numpy as np\n",
    "import pandas as pd"
   ]
  },
  {
   "cell_type": "code",
   "execution_count": 2,
   "id": "4028f253-e307-409e-86dc-0766e7ccd116",
   "metadata": {},
   "outputs": [],
   "source": [
    "import scipy.io"
   ]
  },
  {
   "cell_type": "code",
   "execution_count": 3,
   "id": "84ad8201-97cf-4eea-a5e6-5302880ad1d6",
   "metadata": {},
   "outputs": [],
   "source": [
    "data = scipy.io.loadmat('/Users/Sophie/Library/CloudStorage/OneDrive-Personnel/IP/Data Stream Processing/PySAD_to_River/data/arrhythmia.mat') "
   ]
  },
  {
   "cell_type": "code",
   "execution_count": 4,
   "id": "b484cc24-d75d-486f-a3c0-f4c3020305a2",
   "metadata": {},
   "outputs": [],
   "source": [
    "X = data['X']\n",
    "y = data['y']"
   ]
  },
  {
   "cell_type": "code",
   "execution_count": 5,
   "id": "517fb943-0a69-4960-9732-92ad77e70e9e",
   "metadata": {},
   "outputs": [],
   "source": [
    "from anomaly.base import AnomalyDetector"
   ]
  },
  {
   "cell_type": "markdown",
   "id": "aa8f0632-8977-4ffb-9b15-df80d1df006f",
   "metadata": {},
   "source": [
    "Import our model"
   ]
  },
  {
   "cell_type": "code",
   "execution_count": 6,
   "id": "90ec12c0-3853-4479-9730-7b50d153dcc0",
   "metadata": {},
   "outputs": [],
   "source": [
    "from models.xstream import xStream"
   ]
  },
  {
   "cell_type": "code",
   "execution_count": 15,
   "id": "a92e4702-36bd-4cb3-a018-cc596b115cbc",
   "metadata": {},
   "outputs": [
    {
     "name": "stdout",
     "output_type": "stream",
     "text": [
      "Collecting pysad\n",
      "  Downloading pysad-0.1.1-py3-none-any.whl (73 kB)\n",
      "\u001b[K     |████████████████████████████████| 73 kB 4.2 MB/s eta 0:00:011\n",
      "\u001b[?25hRequirement already satisfied: scipy>=1.4.1 in /opt/anaconda3/lib/python3.8/site-packages (from pysad) (1.9.3)\n",
      "Requirement already satisfied: scikit-learn>=0.23.2 in /opt/anaconda3/lib/python3.8/site-packages (from pysad) (0.24.1)\n",
      "Requirement already satisfied: numpy>=1.18.5 in /opt/anaconda3/lib/python3.8/site-packages (from pysad) (1.23.4)\n",
      "Collecting pyod>=0.7.7.1\n",
      "  Downloading pyod-1.0.6.tar.gz (141 kB)\n",
      "\u001b[K     |████████████████████████████████| 141 kB 22.6 MB/s eta 0:00:01\n",
      "\u001b[?25hRequirement already satisfied: joblib in /opt/anaconda3/lib/python3.8/site-packages (from pyod>=0.7.7.1->pysad) (1.0.1)\n",
      "Requirement already satisfied: matplotlib in /opt/anaconda3/lib/python3.8/site-packages (from pyod>=0.7.7.1->pysad) (3.3.4)\n",
      "Requirement already satisfied: numba>=0.51 in /opt/anaconda3/lib/python3.8/site-packages (from pyod>=0.7.7.1->pysad) (0.53.1)\n",
      "Requirement already satisfied: six in /opt/anaconda3/lib/python3.8/site-packages (from pyod>=0.7.7.1->pysad) (1.15.0)\n",
      "Requirement already satisfied: statsmodels in /opt/anaconda3/lib/python3.8/site-packages (from pyod>=0.7.7.1->pysad) (0.12.2)\n",
      "Requirement already satisfied: setuptools in /opt/anaconda3/lib/python3.8/site-packages (from numba>=0.51->pyod>=0.7.7.1->pysad) (52.0.0.post20210125)\n",
      "Requirement already satisfied: llvmlite<0.37,>=0.36.0rc1 in /opt/anaconda3/lib/python3.8/site-packages (from numba>=0.51->pyod>=0.7.7.1->pysad) (0.36.0)\n",
      "Requirement already satisfied: threadpoolctl>=2.0.0 in /opt/anaconda3/lib/python3.8/site-packages (from scikit-learn>=0.23.2->pysad) (2.1.0)\n",
      "Requirement already satisfied: kiwisolver>=1.0.1 in /opt/anaconda3/lib/python3.8/site-packages (from matplotlib->pyod>=0.7.7.1->pysad) (1.3.1)\n",
      "Requirement already satisfied: pyparsing!=2.0.4,!=2.1.2,!=2.1.6,>=2.0.3 in /opt/anaconda3/lib/python3.8/site-packages (from matplotlib->pyod>=0.7.7.1->pysad) (2.4.7)\n",
      "Requirement already satisfied: cycler>=0.10 in /opt/anaconda3/lib/python3.8/site-packages (from matplotlib->pyod>=0.7.7.1->pysad) (0.10.0)\n",
      "Requirement already satisfied: pillow>=6.2.0 in /opt/anaconda3/lib/python3.8/site-packages (from matplotlib->pyod>=0.7.7.1->pysad) (8.2.0)\n",
      "Requirement already satisfied: python-dateutil>=2.1 in /opt/anaconda3/lib/python3.8/site-packages (from matplotlib->pyod>=0.7.7.1->pysad) (2.8.1)\n",
      "Requirement already satisfied: patsy>=0.5 in /opt/anaconda3/lib/python3.8/site-packages (from statsmodels->pyod>=0.7.7.1->pysad) (0.5.1)\n",
      "Requirement already satisfied: pandas>=0.21 in /opt/anaconda3/lib/python3.8/site-packages (from statsmodels->pyod>=0.7.7.1->pysad) (1.3.2)\n",
      "Requirement already satisfied: pytz>=2017.3 in /opt/anaconda3/lib/python3.8/site-packages (from pandas>=0.21->statsmodels->pyod>=0.7.7.1->pysad) (2021.1)\n",
      "Building wheels for collected packages: pyod\n",
      "  Building wheel for pyod (setup.py) ... \u001b[?25ldone\n",
      "\u001b[?25h  Created wheel for pyod: filename=pyod-1.0.6-py3-none-any.whl size=175085 sha256=29b417165bce37ef2f26b5cc154e2e4633380243a64db998cb13f15226256794\n",
      "  Stored in directory: /Users/Sophie/Library/Caches/pip/wheels/98/93/e6/6d40410d9635ecde42d06041a1ba7f2ee7396e036fcf702e73\n",
      "Successfully built pyod\n",
      "Installing collected packages: pyod, pysad\n",
      "Successfully installed pyod-1.0.6 pysad-0.1.1\n",
      "Note: you may need to restart the kernel to use updated packages.\n"
     ]
    }
   ],
   "source": [
    "pip install pysad"
   ]
  },
  {
   "cell_type": "code",
   "execution_count": 17,
   "id": "05333f37-d0b6-4d0d-81b7-4d48ecc298c5",
   "metadata": {},
   "outputs": [
    {
     "name": "stdout",
     "output_type": "stream",
     "text": [
      "Collecting combo\n",
      "  Downloading combo-0.1.3.tar.gz (38 kB)\n",
      "Requirement already satisfied: joblib in /opt/anaconda3/lib/python3.8/site-packages (from combo) (1.0.1)\n",
      "Requirement already satisfied: matplotlib in /opt/anaconda3/lib/python3.8/site-packages (from combo) (3.3.4)\n",
      "Requirement already satisfied: numpy>=1.13 in /opt/anaconda3/lib/python3.8/site-packages (from combo) (1.23.4)\n",
      "Requirement already satisfied: numba>=0.35 in /opt/anaconda3/lib/python3.8/site-packages (from combo) (0.53.1)\n",
      "Requirement already satisfied: pyod in /opt/anaconda3/lib/python3.8/site-packages (from combo) (1.0.6)\n",
      "Requirement already satisfied: scipy in /opt/anaconda3/lib/python3.8/site-packages (from combo) (1.9.3)\n",
      "Requirement already satisfied: scikit_learn>=0.20 in /opt/anaconda3/lib/python3.8/site-packages (from combo) (0.24.1)\n",
      "Requirement already satisfied: llvmlite<0.37,>=0.36.0rc1 in /opt/anaconda3/lib/python3.8/site-packages (from numba>=0.35->combo) (0.36.0)\n",
      "Requirement already satisfied: setuptools in /opt/anaconda3/lib/python3.8/site-packages (from numba>=0.35->combo) (52.0.0.post20210125)\n",
      "Requirement already satisfied: threadpoolctl>=2.0.0 in /opt/anaconda3/lib/python3.8/site-packages (from scikit_learn>=0.20->combo) (2.1.0)\n",
      "Requirement already satisfied: cycler>=0.10 in /opt/anaconda3/lib/python3.8/site-packages (from matplotlib->combo) (0.10.0)\n",
      "Requirement already satisfied: kiwisolver>=1.0.1 in /opt/anaconda3/lib/python3.8/site-packages (from matplotlib->combo) (1.3.1)\n",
      "Requirement already satisfied: pyparsing!=2.0.4,!=2.1.2,!=2.1.6,>=2.0.3 in /opt/anaconda3/lib/python3.8/site-packages (from matplotlib->combo) (2.4.7)\n",
      "Requirement already satisfied: pillow>=6.2.0 in /opt/anaconda3/lib/python3.8/site-packages (from matplotlib->combo) (8.2.0)\n",
      "Requirement already satisfied: python-dateutil>=2.1 in /opt/anaconda3/lib/python3.8/site-packages (from matplotlib->combo) (2.8.1)\n",
      "Requirement already satisfied: six in /opt/anaconda3/lib/python3.8/site-packages (from cycler>=0.10->matplotlib->combo) (1.15.0)\n",
      "Requirement already satisfied: statsmodels in /opt/anaconda3/lib/python3.8/site-packages (from pyod->combo) (0.12.2)\n",
      "Requirement already satisfied: patsy>=0.5 in /opt/anaconda3/lib/python3.8/site-packages (from statsmodels->pyod->combo) (0.5.1)\n",
      "Requirement already satisfied: pandas>=0.21 in /opt/anaconda3/lib/python3.8/site-packages (from statsmodels->pyod->combo) (1.3.2)\n",
      "Requirement already satisfied: pytz>=2017.3 in /opt/anaconda3/lib/python3.8/site-packages (from pandas>=0.21->statsmodels->pyod->combo) (2021.1)\n",
      "Building wheels for collected packages: combo\n",
      "  Building wheel for combo (setup.py) ... \u001b[?25ldone\n",
      "\u001b[?25h  Created wheel for combo: filename=combo-0.1.3-py3-none-any.whl size=42871 sha256=149bdd0cd9c0f93168da1d2bab08d37a77a27d44c2e4aa3715b8a0f5485b0c55\n",
      "  Stored in directory: /Users/Sophie/Library/Caches/pip/wheels/ec/44/39/0667fea44a2dfe692cc2a51f0f79ea49b9dee7def53594ef2e\n",
      "Successfully built combo\n",
      "Installing collected packages: combo\n",
      "Successfully installed combo-0.1.3\n",
      "Note: you may need to restart the kernel to use updated packages.\n"
     ]
    }
   ],
   "source": [
    "pip install combo"
   ]
  },
  {
   "cell_type": "code",
   "execution_count": 25,
   "id": "dcb1833c-ab4c-4f0e-bc8a-b2f7d2030cf5",
   "metadata": {},
   "outputs": [
    {
     "name": "stdout",
     "output_type": "stream",
     "text": [
      "Collecting mmh3\n",
      "  Downloading mmh3-3.0.0-cp38-cp38-macosx_10_9_x86_64.whl (12 kB)\n",
      "Installing collected packages: mmh3\n",
      "Successfully installed mmh3-3.0.0\n",
      "Note: you may need to restart the kernel to use updated packages.\n"
     ]
    }
   ],
   "source": [
    "pip install mmh3"
   ]
  },
  {
   "cell_type": "code",
   "execution_count": 7,
   "id": "d7a44023-4bae-4989-876d-b5fb74e706d2",
   "metadata": {},
   "outputs": [],
   "source": [
    "from pysad.transform.probability_calibration import ConformalProbabilityCalibrator"
   ]
  },
  {
   "cell_type": "code",
   "execution_count": 8,
   "id": "cdb742a0-75b4-41eb-90d3-6953c8370597",
   "metadata": {},
   "outputs": [],
   "source": [
    "from river.stream import iter_array"
   ]
  },
  {
   "cell_type": "code",
   "execution_count": 12,
   "id": "02c91580-2731-4439-b672-2b2d934dad0e",
   "metadata": {},
   "outputs": [
    {
     "ename": "NameError",
     "evalue": "name 'calibrator' is not defined",
     "output_type": "error",
     "traceback": [
      "\u001b[0;31m---------------------------------------------------------------------------\u001b[0m",
      "\u001b[0;31mNameError\u001b[0m                                 Traceback (most recent call last)",
      "\u001b[0;32m<ipython-input-12-7153ef5164f1>\u001b[0m in \u001b[0;36m<module>\u001b[0;34m\u001b[0m\n\u001b[1;32m      7\u001b[0m \u001b[0;31m#    anomaly_score = model.learn_score_one(x_array)\u001b[0m\u001b[0;34m\u001b[0m\u001b[0;34m\u001b[0m\u001b[0;34m\u001b[0m\u001b[0m\n\u001b[1;32m      8\u001b[0m \u001b[0;34m\u001b[0m\u001b[0m\n\u001b[0;32m----> 9\u001b[0;31m     \u001b[0mcalibrated_score\u001b[0m \u001b[0;34m=\u001b[0m \u001b[0mcalibrator\u001b[0m\u001b[0;34m.\u001b[0m\u001b[0mfit_transform\u001b[0m\u001b[0;34m(\u001b[0m\u001b[0manomaly_score\u001b[0m\u001b[0;34m)\u001b[0m  \u001b[0;31m# Fit & calibrate score.\u001b[0m\u001b[0;34m\u001b[0m\u001b[0;34m\u001b[0m\u001b[0m\n\u001b[0m\u001b[1;32m     10\u001b[0m \u001b[0;34m\u001b[0m\u001b[0m\n\u001b[1;32m     11\u001b[0m     \u001b[0;31m# Output if the instance is anomalous.\u001b[0m\u001b[0;34m\u001b[0m\u001b[0;34m\u001b[0m\u001b[0;34m\u001b[0m\u001b[0m\n",
      "\u001b[0;31mNameError\u001b[0m: name 'calibrator' is not defined"
     ]
    }
   ],
   "source": [
    "model = xStream()\n",
    "for xi, yi in iter_array(X,y):\n",
    "    x_array = np.array(list(xi.values()))\n",
    "    y_array = np.array(list(yi.values()))\n",
    "    anomaly_score = model.score_one(x_array)\n",
    "    model = model.learn_one(x_array)\n",
    "#    anomaly_score = model.learn_score_one(x_array)\n",
    "    \n",
    "    calibrated_score = calibrator.fit_transform(anomaly_score)  # Fit & calibrate score.\n",
    "\n",
    "    # Output if the instance is anomalous.\n",
    "    if calibrated_score > 0.95:  # If probability of being normal is less than 5%.\n",
    "        print(f\"Alert: {i}th data point is anomalous.\")"
   ]
  },
  {
   "cell_type": "code",
   "execution_count": null,
   "id": "1106a068-128d-4203-98c6-005cd474852f",
   "metadata": {},
   "outputs": [],
   "source": []
  },
  {
   "cell_type": "code",
   "execution_count": null,
   "id": "94476621-f597-4b2e-b436-99de7209a15e",
   "metadata": {},
   "outputs": [],
   "source": []
  }
 ],
 "metadata": {
  "kernelspec": {
   "display_name": "Python 3",
   "language": "python",
   "name": "python3"
  },
  "language_info": {
   "codemirror_mode": {
    "name": "ipython",
    "version": 3
   },
   "file_extension": ".py",
   "mimetype": "text/x-python",
   "name": "python",
   "nbconvert_exporter": "python",
   "pygments_lexer": "ipython3",
   "version": "3.8.8"
  }
 },
 "nbformat": 4,
 "nbformat_minor": 5
}
