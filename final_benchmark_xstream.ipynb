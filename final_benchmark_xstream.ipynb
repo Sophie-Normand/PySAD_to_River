{
 "cells": [
  {
   "cell_type": "code",
   "execution_count": 5,
   "id": "fa5e4b9a-c449-4dc6-973b-6a10cc17acf6",
   "metadata": {},
   "outputs": [],
   "source": [
    "import numpy as np\n",
    "import pandas as pd"
   ]
  },
  {
   "cell_type": "code",
   "execution_count": 6,
   "id": "65c08f99-4d98-4cc5-8568-226947cfb7d1",
   "metadata": {},
   "outputs": [],
   "source": [
    "import time"
   ]
  },
  {
   "cell_type": "code",
   "execution_count": 7,
   "id": "2f935590-39d8-4721-a126-969f765253d2",
   "metadata": {},
   "outputs": [],
   "source": [
    "import scipy.io"
   ]
  },
  {
   "cell_type": "code",
   "execution_count": 8,
   "id": "0d70b372-091f-4177-a8d7-d053c5b2ba9b",
   "metadata": {},
   "outputs": [],
   "source": [
    "from anomaly.base import AnomalyDetector"
   ]
  },
  {
   "cell_type": "code",
   "execution_count": 9,
   "id": "824501b5-8a3a-4899-bab8-592d634c0e97",
   "metadata": {},
   "outputs": [],
   "source": [
    "from river import metrics\n",
    "from river.stream import iter_array"
   ]
  },
  {
   "cell_type": "code",
   "execution_count": 10,
   "id": "a84a60b8-48f0-42db-baab-3b3accc224cc",
   "metadata": {},
   "outputs": [],
   "source": [
    "from models.xstream import xStream"
   ]
  },
  {
   "cell_type": "code",
   "execution_count": 11,
   "id": "eeec07e6-babb-435d-8473-3418a69be61e",
   "metadata": {},
   "outputs": [],
   "source": [
    "#ROCAUC scikit-learn\n",
    "from pysad.evaluation import AUROCMetric"
   ]
  },
  {
   "cell_type": "code",
   "execution_count": 12,
   "id": "9a593a64-a5a4-4137-9463-5864b4d5a0af",
   "metadata": {},
   "outputs": [],
   "source": [
    "metric = AUROCMetric()"
   ]
  },
  {
   "cell_type": "markdown",
   "id": "65cdb750-a96d-4a21-a51a-1b09f11c01fb",
   "metadata": {},
   "source": [
    "# Arrythmia (outliers 15%) nb_points: 452"
   ]
  },
  {
   "cell_type": "code",
   "execution_count": 10,
   "id": "b72479e3-ee01-4619-b174-19c269faec5a",
   "metadata": {},
   "outputs": [],
   "source": [
    "data = scipy.io.loadmat('/Users/Sophie/Library/CloudStorage/OneDrive-Personnel/IP/Data Stream Processing/PySAD_to_River/data/arrhythmia.mat') "
   ]
  },
  {
   "cell_type": "code",
   "execution_count": 11,
   "id": "a4d860c9-483f-47a6-841d-3c07d642993f",
   "metadata": {},
   "outputs": [],
   "source": [
    "X = data['X']\n",
    "y = data['y']\n",
    "y_flat = data['y'].flatten()"
   ]
  },
  {
   "cell_type": "code",
   "execution_count": 12,
   "id": "18d7d384-9270-4af7-8e3e-d72c8e96a820",
   "metadata": {},
   "outputs": [],
   "source": [
    "model = xStream()"
   ]
  },
  {
   "cell_type": "code",
   "execution_count": 13,
   "id": "a11354bc-dbf4-4f06-9682-456813d2a81f",
   "metadata": {},
   "outputs": [
    {
     "ename": "KeyboardInterrupt",
     "evalue": "",
     "output_type": "error",
     "traceback": [
      "\u001b[0;31m---------------------------------------------------------------------------\u001b[0m",
      "\u001b[0;31mKeyboardInterrupt\u001b[0m                         Traceback (most recent call last)",
      "Cell \u001b[0;32mIn[13], line 3\u001b[0m\n\u001b[1;32m      1\u001b[0m start \u001b[39m=\u001b[39m time\u001b[39m.\u001b[39mtime()\n\u001b[1;32m      2\u001b[0m \u001b[39mfor\u001b[39;00m xi, yi \u001b[39min\u001b[39;00m iter_array(X,y_flat):\n\u001b[0;32m----> 3\u001b[0m     anomaly_score \u001b[39m=\u001b[39m model\u001b[39m.\u001b[39;49mscore_one(xi)\n\u001b[1;32m      4\u001b[0m     model \u001b[39m=\u001b[39m model\u001b[39m.\u001b[39mlearn_one(xi)\n\u001b[1;32m      5\u001b[0m     metric\u001b[39m.\u001b[39mupdate(yi, anomaly_score)  \u001b[39m# Update the AUROC metric.\u001b[39;00m\n",
      "File \u001b[0;32m~/Library/CloudStorage/OneDrive-Personnel/IP/Data Stream Processing/PySAD_to_River/models/xstream.py:88\u001b[0m, in \u001b[0;36mxStream.score_one\u001b[0;34m(self, x)\u001b[0m\n\u001b[1;32m     78\u001b[0m \u001b[39m\"\"\"Scores the anomalousness of the next instance.\u001b[39;00m\n\u001b[1;32m     79\u001b[0m \u001b[39m\u001b[39;00m\n\u001b[1;32m     80\u001b[0m \u001b[39mParameters\u001b[39;00m\n\u001b[0;32m   (...)\u001b[0m\n\u001b[1;32m     84\u001b[0m \u001b[39m\u001b[39;00m\n\u001b[1;32m     85\u001b[0m \u001b[39m\"\"\"\u001b[39;00m\n\u001b[1;32m     87\u001b[0m X \u001b[39m=\u001b[39m \u001b[39mself\u001b[39m\u001b[39m.\u001b[39mstreamhash\u001b[39m.\u001b[39mlearn_one(x)\n\u001b[0;32m---> 88\u001b[0m X \u001b[39m=\u001b[39m \u001b[39mself\u001b[39;49m\u001b[39m.\u001b[39;49mstreamhash\u001b[39m.\u001b[39;49mtransform_one(X)\n\u001b[1;32m     89\u001b[0m score \u001b[39m=\u001b[39m \u001b[39mself\u001b[39m\u001b[39m.\u001b[39mhs_chains\u001b[39m.\u001b[39mscore(X)\n\u001b[1;32m     91\u001b[0m \u001b[39mreturn\u001b[39;00m score\n",
      "File \u001b[0;32m~/Library/CloudStorage/OneDrive-Personnel/IP/Data Stream Processing/PySAD_to_River/transform/projection/streamhash_projector.py:66\u001b[0m, in \u001b[0;36mStreamhashProjector.transform_one\u001b[0;34m(self, X)\u001b[0m\n\u001b[1;32m     63\u001b[0m     R_T[ind[\u001b[39m1\u001b[39m],ind[\u001b[39m0\u001b[39m]] \u001b[39m=\u001b[39m R[ind]\n\u001b[1;32m     64\u001b[0m R_T_ord \u001b[39m=\u001b[39m \u001b[39mdict\u001b[39m(\u001b[39msorted\u001b[39m(R_T\u001b[39m.\u001b[39mitems()))\n\u001b[0;32m---> 66\u001b[0m Y \u001b[39m=\u001b[39m dotvecmat(X, R_T_ord)\n\u001b[1;32m     67\u001b[0m \u001b[39mreturn\u001b[39;00m Y\n",
      "File \u001b[0;32m/opt/anaconda3/lib/python3.8/site-packages/river/utils/math.py:63\u001b[0m, in \u001b[0;36mdotvecmat\u001b[0;34m(x, A)\u001b[0m\n\u001b[1;32m     59\u001b[0m C \u001b[39m=\u001b[39m {}\n\u001b[1;32m     61\u001b[0m \u001b[39mfor\u001b[39;00m (i, xi), ((j, k), ai) \u001b[39min\u001b[39;00m itertools\u001b[39m.\u001b[39mproduct(x\u001b[39m.\u001b[39mitems(), A\u001b[39m.\u001b[39mitems()):\n\u001b[0;32m---> 63\u001b[0m     \u001b[39mif\u001b[39;00m i \u001b[39m!=\u001b[39;49m j:\n\u001b[1;32m     64\u001b[0m         \u001b[39mcontinue\u001b[39;00m\n\u001b[1;32m     66\u001b[0m     C[k] \u001b[39m=\u001b[39m C\u001b[39m.\u001b[39mget(k, \u001b[39m0.0\u001b[39m) \u001b[39m+\u001b[39m xi \u001b[39m*\u001b[39m ai\n",
      "\u001b[0;31mKeyboardInterrupt\u001b[0m: "
     ]
    }
   ],
   "source": [
    "start = time.time()\n",
    "for xi, yi in iter_array(X,y_flat):\n",
    "    anomaly_score = model.score_one(xi)\n",
    "    model = model.learn_one(xi)\n",
    "    metric.update(yi, anomaly_score)  # Update the AUROC metric.\n",
    "#    print(anomaly_score)\n",
    "# Output the resulting AUROCMetric.\n",
    "run_time = time.time() - start\n",
    "print(f\"Area under ROC metric is {metric.get()}.\")\n",
    "print('time: ',run_time)"
   ]
  },
  {
   "cell_type": "code",
   "execution_count": null,
   "id": "0125092d",
   "metadata": {},
   "outputs": [],
   "source": [
    "run_time = run_time.strftime(\"%H:%M:%S\")\n",
    "d = {'Dataset': ['Arrythmia'], 'ROCAUC': [metric], 'Time': [run_time]}\n",
    "print(run_time)"
   ]
  },
  {
   "cell_type": "code",
   "execution_count": null,
   "id": "3076c062",
   "metadata": {},
   "outputs": [],
   "source": [
    "df = pd.DataFrame(data=d)"
   ]
  },
  {
   "cell_type": "markdown",
   "id": "017e2b35-a3f7-4a43-8ad9-830b40347a22",
   "metadata": {},
   "source": [
    "# Optdigits (outliers 3%) nb_points: 5216"
   ]
  },
  {
   "cell_type": "code",
   "execution_count": null,
   "id": "d60375f4-f9de-4c07-a557-5ef545e621ca",
   "metadata": {},
   "outputs": [],
   "source": [
    "data = scipy.io.loadmat('/Users/Sophie/Library/CloudStorage/OneDrive-Personnel/IP/Data Stream Processing/PySAD_to_River/data/optdigits.mat') "
   ]
  },
  {
   "cell_type": "code",
   "execution_count": null,
   "id": "652eb58e-8e87-4088-82a1-01f43b42ae89",
   "metadata": {},
   "outputs": [],
   "source": [
    "X = data['X']\n",
    "y = data['y']\n",
    "y_flat = data['y'].flatten()"
   ]
  },
  {
   "cell_type": "code",
   "execution_count": null,
   "id": "38ccad99-884b-43ab-bf6f-bf32f176e5c2",
   "metadata": {},
   "outputs": [],
   "source": [
    "model = xStream()"
   ]
  },
  {
   "cell_type": "code",
   "execution_count": null,
   "id": "7a5ce9bc-f4cf-4bc0-a9db-31508f247bf5",
   "metadata": {},
   "outputs": [
    {
     "name": "stdout",
     "output_type": "stream",
     "text": [
      "Area under ROC metric is 0.7377933004537919.\n",
      "time:  881.5829989910126\n"
     ]
    }
   ],
   "source": [
    "start = time.time()\n",
    "for xi, yi in iter_array(X,y_flat):\n",
    "    anomaly_score = model.score_one(xi)\n",
    "    model = model.learn_one(xi)\n",
    "    metric.update(yi, anomaly_score)  # Update the AUROC metric.\n",
    "#    print(anomaly_score)\n",
    "# Output the resulting AUROCMetric.\n",
    "run_time = time.time() - start\n",
    "print(f\"Area under ROC metric is {metric.get()}.\")\n",
    "print('time: ', run_time)"
   ]
  },
  {
   "cell_type": "code",
   "execution_count": null,
   "id": "882c8159",
   "metadata": {},
   "outputs": [],
   "source": [
    "d = ['Optdigits', metric, run_time]\n",
    "df.loc[len(df)] = d"
   ]
  },
  {
   "cell_type": "markdown",
   "id": "29530786-eaa8-4aa9-b44d-a8df5f9bb9a9",
   "metadata": {},
   "source": [
    "# Wine (outliers 7.7%) nb_points: 129"
   ]
  },
  {
   "cell_type": "code",
   "execution_count": 13,
   "id": "9dd98643-5e91-467e-89c0-3d3ac473e5b0",
   "metadata": {},
   "outputs": [],
   "source": [
    "data = scipy.io.loadmat('./data/wine.mat') "
   ]
  },
  {
   "cell_type": "code",
   "execution_count": 14,
   "id": "851a1ae4-71d7-4239-bd70-460f5415f342",
   "metadata": {},
   "outputs": [],
   "source": [
    "X = data['X']\n",
    "y = data['y']\n",
    "y_flat = data['y'].flatten()"
   ]
  },
  {
   "cell_type": "code",
   "execution_count": 15,
   "id": "b49986ff-f129-4534-8f75-9dfcbc04f52f",
   "metadata": {},
   "outputs": [],
   "source": [
    "model = xStream()"
   ]
  },
  {
   "cell_type": "code",
   "execution_count": 17,
   "id": "c04f418e-3d50-4032-b7da-47f3730e4d01",
   "metadata": {},
   "outputs": [
    {
     "name": "stdout",
     "output_type": "stream",
     "text": [
      "Area under ROC metric is 0.775735294117647.\n",
      "time:  12.797051906585693\n"
     ]
    }
   ],
   "source": [
    "start = time.time()\n",
    "for xi, yi in iter_array(X,y_flat):\n",
    "    anomaly_score = model.score_one(xi)\n",
    "    model = model.learn_one(xi)\n",
    "    metric.update(yi, anomaly_score)  # Update the AUROC metric.\n",
    "#    print(anomaly_score)\n",
    "# Output the resulting AUROCMetric.\n",
    "run_time = time.time() - start\n",
    "print(f\"Area under ROC metric is {metric.get()}.\")\n",
    "print('time: ', run_time)"
   ]
  },
  {
   "cell_type": "code",
   "execution_count": 18,
   "id": "5971af27",
   "metadata": {},
   "outputs": [
    {
     "ename": "AttributeError",
     "evalue": "'float' object has no attribute 'strftime'",
     "output_type": "error",
     "traceback": [
      "\u001b[0;31m---------------------------------------------------------------------------\u001b[0m",
      "\u001b[0;31mAttributeError\u001b[0m                            Traceback (most recent call last)",
      "Cell \u001b[0;32mIn[18], line 1\u001b[0m\n\u001b[0;32m----> 1\u001b[0m run_time \u001b[39m=\u001b[39m run_time\u001b[39m.\u001b[39;49mstrftime(\u001b[39m\"\u001b[39m\u001b[39m%\u001b[39m\u001b[39mH:\u001b[39m\u001b[39m%\u001b[39m\u001b[39mM:\u001b[39m\u001b[39m%\u001b[39m\u001b[39mS\u001b[39m\u001b[39m\"\u001b[39m)\n\u001b[1;32m      2\u001b[0m d \u001b[39m=\u001b[39m {\u001b[39m'\u001b[39m\u001b[39mDataset\u001b[39m\u001b[39m'\u001b[39m: [\u001b[39m'\u001b[39m\u001b[39mWine\u001b[39m\u001b[39m'\u001b[39m], \u001b[39m'\u001b[39m\u001b[39mROCAUC\u001b[39m\u001b[39m'\u001b[39m: [metric], \u001b[39m'\u001b[39m\u001b[39mTime\u001b[39m\u001b[39m'\u001b[39m: [run_time]}\n\u001b[1;32m      3\u001b[0m \u001b[39mprint\u001b[39m(run_time)\n",
      "\u001b[0;31mAttributeError\u001b[0m: 'float' object has no attribute 'strftime'"
     ]
    }
   ],
   "source": [
    "run_time = run_time.strftime(\"%H:%M:%S\")\n",
    "print(run_time)"
   ]
  },
  {
   "cell_type": "code",
   "execution_count": null,
   "id": "d6d029eb",
   "metadata": {},
   "outputs": [],
   "source": [
    "d = ['Wine', metric, run_time]\n",
    "df.loc[len(df)] = d"
   ]
  },
  {
   "cell_type": "markdown",
   "id": "c4664748-c706-494c-8158-97d7bd3da0ad",
   "metadata": {},
   "source": [
    "# BreastW (outliers 35%) nb_points: 683"
   ]
  },
  {
   "cell_type": "code",
   "execution_count": null,
   "id": "1567a531-2800-4578-a79e-035b73058527",
   "metadata": {},
   "outputs": [],
   "source": [
    "data = scipy.io.loadmat('./data/breastw.mat') "
   ]
  },
  {
   "cell_type": "code",
   "execution_count": null,
   "id": "62908ef3-bd38-4660-83a0-82b715a920ed",
   "metadata": {},
   "outputs": [],
   "source": [
    "X = data['X']\n",
    "y = data['y']\n",
    "y_flat = data['y'].flatten()"
   ]
  },
  {
   "cell_type": "code",
   "execution_count": null,
   "id": "1c3f4ee7-2fd3-495f-b400-03e2a3e6fa9c",
   "metadata": {},
   "outputs": [],
   "source": [
    "model = xStream()"
   ]
  },
  {
   "cell_type": "code",
   "execution_count": null,
   "id": "3a602fe4-a0c9-4f2a-a404-8b82f134aeea",
   "metadata": {},
   "outputs": [
    {
     "name": "stdout",
     "output_type": "stream",
     "text": [
      "Area under ROC metric is 0.774226568797392.\n",
      "time:  198.83373284339905\n"
     ]
    }
   ],
   "source": [
    "start = time.time()\n",
    "for xi, yi in iter_array(X,y_flat):\n",
    "    anomaly_score = model.score_one(xi)\n",
    "    model = model.learn_one(xi)\n",
    "    metric.update(yi, anomaly_score)  # Update the AUROC metric.\n",
    "#    print(anomaly_score)\n",
    "# Output the resulting AUROCMetric.\n",
    "run_time = time.time() - start\n",
    "print(f\"Area under ROC metric is {metric.get()}.\")\n",
    "print('time: ', run_time)"
   ]
  },
  {
   "cell_type": "code",
   "execution_count": null,
   "id": "41c574e6",
   "metadata": {},
   "outputs": [],
   "source": [
    "d = ['BreastW', metric, run_time]\n",
    "df.loc[len(df)] = d"
   ]
  }
 ],
 "metadata": {
  "kernelspec": {
   "display_name": "base",
   "language": "python",
   "name": "python3"
  },
  "language_info": {
   "codemirror_mode": {
    "name": "ipython",
    "version": 3
   },
   "file_extension": ".py",
   "mimetype": "text/x-python",
   "name": "python",
   "nbconvert_exporter": "python",
   "pygments_lexer": "ipython3",
   "version": "3.8.8"
  },
  "vscode": {
   "interpreter": {
    "hash": "40d3a090f54c6569ab1632332b64b2c03c39dcf918b08424e98f38b5ae0af88f"
   }
  }
 },
 "nbformat": 4,
 "nbformat_minor": 5
}
