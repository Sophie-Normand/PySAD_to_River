{
 "cells": [
  {
   "cell_type": "code",
   "execution_count": 1,
   "id": "fa5e4b9a-c449-4dc6-973b-6a10cc17acf6",
   "metadata": {},
   "outputs": [],
   "source": [
    "import numpy as np\n",
    "import pandas as pd"
   ]
  },
  {
   "cell_type": "code",
   "execution_count": 2,
   "id": "65c08f99-4d98-4cc5-8568-226947cfb7d1",
   "metadata": {},
   "outputs": [],
   "source": [
    "import time\n",
    "import datetime"
   ]
  },
  {
   "cell_type": "code",
   "execution_count": 3,
   "id": "2f935590-39d8-4721-a126-969f765253d2",
   "metadata": {},
   "outputs": [],
   "source": [
    "import scipy.io"
   ]
  },
  {
   "cell_type": "code",
   "execution_count": 4,
   "id": "0d70b372-091f-4177-a8d7-d053c5b2ba9b",
   "metadata": {},
   "outputs": [],
   "source": [
    "from anomaly.base import AnomalyDetector"
   ]
  },
  {
   "cell_type": "code",
   "execution_count": 5,
   "id": "824501b5-8a3a-4899-bab8-592d634c0e97",
   "metadata": {},
   "outputs": [],
   "source": [
    "from river import metrics\n",
    "from river.stream import iter_array"
   ]
  },
  {
   "cell_type": "code",
   "execution_count": 6,
   "id": "a84a60b8-48f0-42db-baab-3b3accc224cc",
   "metadata": {},
   "outputs": [],
   "source": [
    "from models.xstream import xStream"
   ]
  },
  {
   "cell_type": "code",
   "execution_count": 7,
   "id": "eeec07e6-babb-435d-8473-3418a69be61e",
   "metadata": {},
   "outputs": [],
   "source": [
    "#ROCAUC scikit-learn\n",
    "from pysad.evaluation import AUROCMetric"
   ]
  },
  {
   "cell_type": "code",
   "execution_count": 8,
   "id": "9a593a64-a5a4-4137-9463-5864b4d5a0af",
   "metadata": {},
   "outputs": [],
   "source": [
    "metric = AUROCMetric()"
   ]
  },
  {
   "cell_type": "markdown",
   "id": "65cdb750-a96d-4a21-a51a-1b09f11c01fb",
   "metadata": {},
   "source": [
    "# Arrythmia (outliers 15%) nb_points: 452"
   ]
  },
  {
   "cell_type": "code",
   "execution_count": 9,
   "id": "b72479e3-ee01-4619-b174-19c269faec5a",
   "metadata": {},
   "outputs": [],
   "source": [
    "data = scipy.io.loadmat('/Users/Sophie/Library/CloudStorage/OneDrive-Personnel/IP/Data Stream Processing/PySAD_to_River/data/arrhythmia.mat') "
   ]
  },
  {
   "cell_type": "code",
   "execution_count": 10,
   "id": "a4d860c9-483f-47a6-841d-3c07d642993f",
   "metadata": {},
   "outputs": [],
   "source": [
    "X = data['X']\n",
    "y = data['y']\n",
    "y_flat = data['y'].flatten()"
   ]
  },
  {
   "cell_type": "code",
   "execution_count": 11,
   "id": "18d7d384-9270-4af7-8e3e-d72c8e96a820",
   "metadata": {},
   "outputs": [],
   "source": [
    "model = xStream()"
   ]
  },
  {
   "cell_type": "code",
   "execution_count": 12,
   "id": "a11354bc-dbf4-4f06-9682-456813d2a81f",
   "metadata": {},
   "outputs": [
    {
     "name": "stdout",
     "output_type": "stream",
     "text": [
      "Area under ROC metric is 0.7093342753964516.\n",
      "time:  575.2480788230896\n"
     ]
    }
   ],
   "source": [
    "start = time.time()\n",
    "for xi, yi in iter_array(X,y_flat):\n",
    "    anomaly_score = model.score_one(xi)\n",
    "    model = model.learn_one(xi)\n",
    "    metric.update(yi, anomaly_score)  # Update the AUROC metric.\n",
    "#    print(anomaly_score)\n",
    "# Output the resulting AUROCMetric.\n",
    "run_time = time.time() - start\n",
    "print(f\"Area under ROC metric is {metric.get()}.\")\n",
    "print('time: ',run_time)"
   ]
  },
  {
   "cell_type": "code",
   "execution_count": 13,
   "id": "0125092d",
   "metadata": {},
   "outputs": [
    {
     "name": "stdout",
     "output_type": "stream",
     "text": [
      "0:09:35.248079\n"
     ]
    }
   ],
   "source": [
    "run_time = str(datetime.timedelta(seconds=run_time))\n",
    "d = {'Dataset': ['Arrythmia'], 'ROCAUC': [metric.get()], 'Time': [run_time]}\n",
    "print(run_time)"
   ]
  },
  {
   "cell_type": "code",
   "execution_count": 14,
   "id": "3076c062",
   "metadata": {},
   "outputs": [],
   "source": [
    "df = pd.DataFrame(data=d)"
   ]
  },
  {
   "cell_type": "markdown",
   "id": "017e2b35-a3f7-4a43-8ad9-830b40347a22",
   "metadata": {},
   "source": [
    "# Optdigits (outliers 3%) nb_points: 5216"
   ]
  },
  {
   "cell_type": "code",
   "execution_count": 15,
   "id": "d60375f4-f9de-4c07-a557-5ef545e621ca",
   "metadata": {},
   "outputs": [],
   "source": [
    "data = scipy.io.loadmat('/Users/Sophie/Library/CloudStorage/OneDrive-Personnel/IP/Data Stream Processing/PySAD_to_River/data/optdigits.mat') "
   ]
  },
  {
   "cell_type": "code",
   "execution_count": 16,
   "id": "652eb58e-8e87-4088-82a1-01f43b42ae89",
   "metadata": {},
   "outputs": [],
   "source": [
    "X = data['X']\n",
    "y = data['y']\n",
    "y_flat = data['y'].flatten()"
   ]
  },
  {
   "cell_type": "code",
   "execution_count": 17,
   "id": "38ccad99-884b-43ab-bf6f-bf32f176e5c2",
   "metadata": {},
   "outputs": [],
   "source": [
    "model = xStream()"
   ]
  },
  {
   "cell_type": "code",
   "execution_count": 18,
   "id": "7a5ce9bc-f4cf-4bc0-a9db-31508f247bf5",
   "metadata": {},
   "outputs": [
    {
     "name": "stdout",
     "output_type": "stream",
     "text": [
      "Area under ROC metric is 0.7377933004537919.\n",
      "time:  924.0220899581909\n"
     ]
    }
   ],
   "source": [
    "start = time.time()\n",
    "for xi, yi in iter_array(X,y_flat):\n",
    "    anomaly_score = model.score_one(xi)\n",
    "    model = model.learn_one(xi)\n",
    "    metric.update(yi, anomaly_score)  # Update the AUROC metric.\n",
    "#    print(anomaly_score)\n",
    "# Output the resulting AUROCMetric.\n",
    "run_time = time.time() - start\n",
    "print(f\"Area under ROC metric is {metric.get()}.\")\n",
    "print('time: ', run_time)"
   ]
  },
  {
   "cell_type": "code",
   "execution_count": 19,
   "id": "882c8159",
   "metadata": {},
   "outputs": [],
   "source": [
    "run_time = str(datetime.timedelta(seconds=run_time))\n",
    "d = ['Optdigits', metric.get(), run_time]\n",
    "df.loc[len(df)] = d"
   ]
  },
  {
   "cell_type": "markdown",
   "id": "29530786-eaa8-4aa9-b44d-a8df5f9bb9a9",
   "metadata": {},
   "source": [
    "# Wine (outliers 7.7%) nb_points: 129"
   ]
  },
  {
   "cell_type": "code",
   "execution_count": 20,
   "id": "9dd98643-5e91-467e-89c0-3d3ac473e5b0",
   "metadata": {},
   "outputs": [],
   "source": [
    "data = scipy.io.loadmat('./data/wine.mat') "
   ]
  },
  {
   "cell_type": "code",
   "execution_count": 21,
   "id": "851a1ae4-71d7-4239-bd70-460f5415f342",
   "metadata": {},
   "outputs": [],
   "source": [
    "X = data['X']\n",
    "y = data['y']\n",
    "y_flat = data['y'].flatten()"
   ]
  },
  {
   "cell_type": "code",
   "execution_count": 22,
   "id": "b49986ff-f129-4534-8f75-9dfcbc04f52f",
   "metadata": {},
   "outputs": [],
   "source": [
    "model = xStream()"
   ]
  },
  {
   "cell_type": "code",
   "execution_count": 23,
   "id": "c04f418e-3d50-4032-b7da-47f3730e4d01",
   "metadata": {},
   "outputs": [
    {
     "name": "stdout",
     "output_type": "stream",
     "text": [
      "Area under ROC metric is 0.7364095513587272.\n",
      "time:  13.222504138946533\n"
     ]
    }
   ],
   "source": [
    "start = time.time()\n",
    "for xi, yi in iter_array(X,y_flat):\n",
    "    anomaly_score = model.score_one(xi)\n",
    "    model = model.learn_one(xi)\n",
    "    metric.update(yi, anomaly_score)  # Update the AUROC metric.\n",
    "#    print(anomaly_score)\n",
    "# Output the resulting AUROCMetric.\n",
    "run_time = time.time() - start\n",
    "print(f\"Area under ROC metric is {metric.get()}.\")\n",
    "print('time: ', run_time)"
   ]
  },
  {
   "cell_type": "code",
   "execution_count": 24,
   "id": "d6d029eb",
   "metadata": {},
   "outputs": [],
   "source": [
    "run_time = str(datetime.timedelta(seconds=run_time))\n",
    "d = ['Wine', metric.get(), run_time]\n",
    "df.loc[len(df)] = d"
   ]
  },
  {
   "cell_type": "markdown",
   "id": "c4664748-c706-494c-8158-97d7bd3da0ad",
   "metadata": {},
   "source": [
    "# BreastW (outliers 35%) nb_points: 683"
   ]
  },
  {
   "cell_type": "code",
   "execution_count": 25,
   "id": "1567a531-2800-4578-a79e-035b73058527",
   "metadata": {},
   "outputs": [],
   "source": [
    "data = scipy.io.loadmat('./data/breastw.mat') "
   ]
  },
  {
   "cell_type": "code",
   "execution_count": 26,
   "id": "62908ef3-bd38-4660-83a0-82b715a920ed",
   "metadata": {},
   "outputs": [],
   "source": [
    "X = data['X']\n",
    "y = data['y']\n",
    "y_flat = data['y'].flatten()"
   ]
  },
  {
   "cell_type": "code",
   "execution_count": 27,
   "id": "1c3f4ee7-2fd3-495f-b400-03e2a3e6fa9c",
   "metadata": {},
   "outputs": [],
   "source": [
    "model = xStream()"
   ]
  },
  {
   "cell_type": "code",
   "execution_count": 28,
   "id": "3a602fe4-a0c9-4f2a-a404-8b82f134aeea",
   "metadata": {},
   "outputs": [
    {
     "name": "stdout",
     "output_type": "stream",
     "text": [
      "Area under ROC metric is 0.7797867338821406.\n",
      "time:  67.6623969078064\n"
     ]
    }
   ],
   "source": [
    "start = time.time()\n",
    "for xi, yi in iter_array(X,y_flat):\n",
    "    anomaly_score = model.score_one(xi)\n",
    "    model = model.learn_one(xi)\n",
    "    metric.update(yi, anomaly_score)  # Update the AUROC metric.\n",
    "#    print(anomaly_score)\n",
    "# Output the resulting AUROCMetric.\n",
    "run_time = time.time() - start\n",
    "print(f\"Area under ROC metric is {metric.get()}.\")\n",
    "print('time: ', run_time)"
   ]
  },
  {
   "cell_type": "code",
   "execution_count": 29,
   "id": "41c574e6",
   "metadata": {},
   "outputs": [],
   "source": [
    "run_time = str(datetime.timedelta(seconds=run_time))\n",
    "d = ['BreastW', metric.get(), run_time]\n",
    "df.loc[len(df)] = d"
   ]
  },
  {
   "cell_type": "code",
   "execution_count": 30,
   "id": "9279ff2a",
   "metadata": {},
   "outputs": [],
   "source": [
    "df.to_csv('xStream_benchmark.csv')"
   ]
  },
  {
   "cell_type": "code",
   "execution_count": 31,
   "id": "ef98b724",
   "metadata": {},
   "outputs": [],
   "source": [
    "import json\n",
    "df.to_json('xStream_benchmark.json',orient='split')"
   ]
  }
 ],
 "metadata": {
  "kernelspec": {
   "display_name": "Python 3 (ipykernel)",
   "language": "python",
   "name": "python3"
  },
  "language_info": {
   "codemirror_mode": {
    "name": "ipython",
    "version": 3
   },
   "file_extension": ".py",
   "mimetype": "text/x-python",
   "name": "python",
   "nbconvert_exporter": "python",
   "pygments_lexer": "ipython3",
   "version": "3.8.8 (default, Apr 13 2021, 12:59:45) \n[Clang 10.0.0 ]"
  },
  "vscode": {
   "interpreter": {
    "hash": "40d3a090f54c6569ab1632332b64b2c03c39dcf918b08424e98f38b5ae0af88f"
   }
  }
 },
 "nbformat": 4,
 "nbformat_minor": 5
}
