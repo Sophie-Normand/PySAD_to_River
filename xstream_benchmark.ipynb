{
 "cells": [
  {
   "cell_type": "code",
   "execution_count": 1,
   "id": "8300a693-bb1b-4ae8-8afe-13115f1461ca",
   "metadata": {},
   "outputs": [],
   "source": [
    "import numpy as np\n",
    "import pandas as pd"
   ]
  },
  {
   "cell_type": "code",
   "execution_count": 37,
   "id": "f97228fd-2229-466d-9751-837af16c5467",
   "metadata": {},
   "outputs": [],
   "source": [
    "import time"
   ]
  },
  {
   "cell_type": "code",
   "execution_count": 2,
   "id": "f63664f9-25fc-440d-818e-1fd614d1eafe",
   "metadata": {},
   "outputs": [],
   "source": [
    "import scipy.io"
   ]
  },
  {
   "cell_type": "code",
   "execution_count": 3,
   "id": "16ace59c-da80-4532-8c31-d365b0074770",
   "metadata": {},
   "outputs": [],
   "source": [
    "from anomaly.base import AnomalyDetector"
   ]
  },
  {
   "cell_type": "code",
   "execution_count": 4,
   "id": "3eac235e-593c-4d77-9271-681da0571761",
   "metadata": {},
   "outputs": [],
   "source": [
    "from river import metrics\n",
    "from river.stream import iter_array"
   ]
  },
  {
   "cell_type": "code",
   "execution_count": 5,
   "id": "19e6b284-3443-450e-90cc-0882413e60f9",
   "metadata": {},
   "outputs": [],
   "source": [
    "from models.xstream import xStream"
   ]
  },
  {
   "cell_type": "code",
   "execution_count": 7,
   "id": "27b8eac2-93a0-4cef-8ae4-7d42a00af30d",
   "metadata": {},
   "outputs": [],
   "source": [
    "#ROCAUC scikit-learn\n",
    "from pysad.evaluation import AUROCMetric"
   ]
  },
  {
   "cell_type": "code",
   "execution_count": 6,
   "id": "4a3d2537-fe10-4688-a449-33997e26deea",
   "metadata": {},
   "outputs": [],
   "source": [
    "np.random.seed(61)"
   ]
  },
  {
   "cell_type": "code",
   "execution_count": 17,
   "id": "500563be-cb87-4367-865c-c5f3fcffae22",
   "metadata": {},
   "outputs": [],
   "source": [
    "model = xStream()\n",
    "metric = AUROCMetric()"
   ]
  },
  {
   "cell_type": "markdown",
   "id": "bde206a3-4885-421e-aeb0-ee91f0336b58",
   "metadata": {},
   "source": [
    "# Arrythmia (outliers 15%) nb_points: 452"
   ]
  },
  {
   "cell_type": "code",
   "execution_count": 51,
   "id": "9a708066-79c2-45d3-bfe2-c9677093c8e8",
   "metadata": {},
   "outputs": [],
   "source": [
    "data = scipy.io.loadmat('/Users/Sophie/Library/CloudStorage/OneDrive-Personnel/IP/Data Stream Processing/PySAD_to_River/data/arrhythmia.mat') "
   ]
  },
  {
   "cell_type": "code",
   "execution_count": 52,
   "id": "22433f7d-612b-423f-b8c3-108af47b5086",
   "metadata": {},
   "outputs": [],
   "source": [
    "X = data['X']\n",
    "y = data['y']\n",
    "y_flat = data['y'].flatten()"
   ]
  },
  {
   "cell_type": "code",
   "execution_count": null,
   "id": "59615754-d939-4637-8bac-bcb2c4c72d6b",
   "metadata": {},
   "outputs": [],
   "source": [
    "start = time.time()\n",
    "for xi, yi in iter_array(X,y_flat):\n",
    "    anomaly_score = model.score_one(xi)\n",
    "    model = model.learn_one(xi)\n",
    "    metric.update(yi, anomaly_score)  # Update the AUROC metric.\n",
    "#    print(anomaly_score)\n",
    "# Output the resulting AUROCMetric.\n",
    "run_time = time.time() - start\n",
    "print(f\"Area under ROC metric is {metric.get()}.\")\n",
    "print(run_time)"
   ]
  },
  {
   "cell_type": "markdown",
   "id": "ff38a35a-ee42-4bf4-9688-7ba3c0ced310",
   "metadata": {},
   "source": [
    "Area under ROC metric is 0.7061155597425027."
   ]
  },
  {
   "cell_type": "markdown",
   "id": "11a3fce6-6959-4169-b852-c17eb8dae00a",
   "metadata": {},
   "source": [
    "# Optdigits (outliers 3%) nb_points: 5216"
   ]
  },
  {
   "cell_type": "code",
   "execution_count": 28,
   "id": "5e926dc6-a6f9-404e-82f4-87790a70b7cf",
   "metadata": {},
   "outputs": [],
   "source": [
    "data = scipy.io.loadmat('/Users/Sophie/Library/CloudStorage/OneDrive-Personnel/IP/Data Stream Processing/PySAD_to_River/data/optdigits.mat') "
   ]
  },
  {
   "cell_type": "code",
   "execution_count": 29,
   "id": "195b202d-7c8c-4d07-8a45-fc998fdb86e6",
   "metadata": {},
   "outputs": [],
   "source": [
    "X = data['X']\n",
    "y = data['y']\n",
    "y_flat = data['y'].flatten()"
   ]
  },
  {
   "cell_type": "code",
   "execution_count": 30,
   "id": "3e6b8b94-bb0d-4132-95b0-fd28741d9b9a",
   "metadata": {},
   "outputs": [
    {
     "name": "stdout",
     "output_type": "stream",
     "text": [
      "Area under ROC metric is 0.6683226856316297.\n"
     ]
    }
   ],
   "source": [
    "start = time.time()\n",
    "for xi, yi in iter_array(X,y_flat):\n",
    "    anomaly_score = model.score_one(xi)\n",
    "    model = model.learn_one(xi)\n",
    "    metric.update(yi, anomaly_score)  # Update the AUROC metric.\n",
    "#    print(anomaly_score)\n",
    "# Output the resulting AUROCMetric.\n",
    "run_time = time.time() - start\n",
    "print(f\"Area under ROC metric is {metric.get()}.\")\n",
    "print(run_time)"
   ]
  },
  {
   "cell_type": "markdown",
   "id": "489bad6f-efc5-4353-9055-ab10ef92baaa",
   "metadata": {},
   "source": [
    "Area under ROC metric is 0.6683226856316297."
   ]
  },
  {
   "cell_type": "markdown",
   "id": "56accafa-1ac4-46fd-a09d-b9f86dba8e7a",
   "metadata": {},
   "source": [
    "# Wine (outliers 7.7%) nb_points: 129"
   ]
  },
  {
   "cell_type": "code",
   "execution_count": 25,
   "id": "c64e56a6-8bbe-404e-87f6-d58c176c7a84",
   "metadata": {},
   "outputs": [],
   "source": [
    "data = scipy.io.loadmat('/Users/Sophie/Library/CloudStorage/OneDrive-Personnel/IP/Data Stream Processing/PySAD_to_River/data/wine.mat') "
   ]
  },
  {
   "cell_type": "code",
   "execution_count": 26,
   "id": "ddcc85a8-8664-447e-89d1-9ba560b3f811",
   "metadata": {},
   "outputs": [],
   "source": [
    "X = data['X']\n",
    "y = data['y']\n",
    "y_flat = data['y'].flatten()"
   ]
  },
  {
   "cell_type": "code",
   "execution_count": 27,
   "id": "8856414a-6d5c-486a-b69d-d8ef91e0e212",
   "metadata": {},
   "outputs": [
    {
     "name": "stdout",
     "output_type": "stream",
     "text": [
      "Area under ROC metric is 0.5781512605042017.\n"
     ]
    }
   ],
   "source": [
    "start = time.time()\n",
    "for xi, yi in iter_array(X,y_flat):\n",
    "    anomaly_score = model.score_one(xi)\n",
    "    model = model.learn_one(xi)\n",
    "    metric.update(yi, anomaly_score)  # Update the AUROC metric.\n",
    "#    print(anomaly_score)\n",
    "# Output the resulting AUROCMetric.\n",
    "run_time = time.time() - start\n",
    "print(f\"Area under ROC metric is {metric.get()}.\")\n",
    "print(run_time)"
   ]
  },
  {
   "cell_type": "markdown",
   "id": "f7f4965e-ca88-42e4-92a9-6b0fd37ab99d",
   "metadata": {},
   "source": [
    "Area under ROC metric is 0.5781512605042017."
   ]
  },
  {
   "cell_type": "markdown",
   "id": "4be9ab66-79c9-4bfe-af7d-457f2b792dc3",
   "metadata": {},
   "source": [
    "# Pendigits (outliers 2.27%) nb_points: 6870"
   ]
  },
  {
   "cell_type": "code",
   "execution_count": 31,
   "id": "0d7bc1fe-2805-4bc6-ac0b-5c3ba82981d7",
   "metadata": {},
   "outputs": [],
   "source": [
    "data = scipy.io.loadmat('/Users/Sophie/Library/CloudStorage/OneDrive-Personnel/IP/Data Stream Processing/PySAD_to_River/data/pendigits.mat') "
   ]
  },
  {
   "cell_type": "code",
   "execution_count": 32,
   "id": "049b3fb3-0cf8-4da3-9982-7eac4f783490",
   "metadata": {},
   "outputs": [],
   "source": [
    "X = data['X']\n",
    "y = data['y']\n",
    "y_flat = data['y'].flatten()"
   ]
  },
  {
   "cell_type": "code",
   "execution_count": 33,
   "id": "c5cdd675-190e-4ae1-aeb6-c0aec784b7c7",
   "metadata": {},
   "outputs": [
    {
     "name": "stdout",
     "output_type": "stream",
     "text": [
      "Area under ROC metric is 0.7631021009105116.\n"
     ]
    }
   ],
   "source": [
    "start = time.time()\n",
    "for xi, yi in iter_array(X,y_flat):\n",
    "    anomaly_score = model.score_one(xi)\n",
    "    model = model.learn_one(xi)\n",
    "    metric.update(yi, anomaly_score)  # Update the AUROC metric.\n",
    "#    print(anomaly_score)\n",
    "# Output the resulting AUROCMetric.\n",
    "run_time = time.time() - start\n",
    "print(f\"Area under ROC metric is {metric.get()}.\")\n",
    "print(run_time)"
   ]
  },
  {
   "cell_type": "markdown",
   "id": "d7ca6000-8bf5-4f26-8366-93e7634d5582",
   "metadata": {},
   "source": [
    "Area under ROC metric is 0.7631021009105116."
   ]
  },
  {
   "cell_type": "markdown",
   "id": "a4c72ce2-544b-49f7-9ef0-1c8ea7a9f181",
   "metadata": {},
   "source": [
    "# Mnist (outliers 9.2%) nb_points: 7603"
   ]
  },
  {
   "cell_type": "code",
   "execution_count": 34,
   "id": "dcc6ddb4-1829-4554-85af-ac784f085bf6",
   "metadata": {},
   "outputs": [],
   "source": [
    "data = scipy.io.loadmat('/Users/Sophie/Library/CloudStorage/OneDrive-Personnel/IP/Data Stream Processing/PySAD_to_River/data/mnist.mat') "
   ]
  },
  {
   "cell_type": "code",
   "execution_count": 35,
   "id": "192781fc-3f21-4910-aff3-8860e3c84198",
   "metadata": {},
   "outputs": [],
   "source": [
    "X = data['X']\n",
    "y = data['y']\n",
    "y_flat = data['y'].flatten()"
   ]
  },
  {
   "cell_type": "code",
   "execution_count": null,
   "id": "e64c6b9b-083a-4871-971c-c7f4f55c55f8",
   "metadata": {},
   "outputs": [],
   "source": [
    "start = time.time()\n",
    "for xi, yi in iter_array(X,y_flat):\n",
    "    anomaly_score = model.score_one(xi)\n",
    "    model = model.learn_one(xi)\n",
    "    metric.update(yi, anomaly_score)  # Update the AUROC metric.\n",
    "#    print(anomaly_score)\n",
    "# Output the resulting AUROCMetric.\n",
    "run_time = time.time() - start\n",
    "print(f\"Area under ROC metric is {metric.get()}.\")\n",
    "print(run_time)"
   ]
  },
  {
   "cell_type": "markdown",
   "id": "882e4efe-9649-4135-9b11-38647029e779",
   "metadata": {},
   "source": [
    "Area under ROC metric is 0.50121249037839."
   ]
  },
  {
   "cell_type": "markdown",
   "id": "381f35ec-3e38-4225-af39-4b377177669e",
   "metadata": {},
   "source": [
    "# Annthyroid (outliers 7.42%) nb_points: 7200"
   ]
  },
  {
   "cell_type": "code",
   "execution_count": 39,
   "id": "deec265a-159a-437f-8041-0628b2bc42d4",
   "metadata": {},
   "outputs": [],
   "source": [
    "data = scipy.io.loadmat('/Users/Sophie/Library/CloudStorage/OneDrive-Personnel/IP/Data Stream Processing/PySAD_to_River/data/annthyroid.mat') "
   ]
  },
  {
   "cell_type": "code",
   "execution_count": 40,
   "id": "f8643caa-e5a8-449c-a067-e458ceb9cda7",
   "metadata": {},
   "outputs": [],
   "source": [
    "X = data['X']\n",
    "y = data['y']\n",
    "y_flat = data['y'].flatten()"
   ]
  },
  {
   "cell_type": "code",
   "execution_count": 41,
   "id": "25a44274-c25c-4932-bbda-cd5f17c8b152",
   "metadata": {},
   "outputs": [
    {
     "name": "stdout",
     "output_type": "stream",
     "text": [
      "Area under ROC metric is 0.539149900950972.\n",
      "798.5197999477386\n"
     ]
    }
   ],
   "source": [
    "start = time.time()\n",
    "for xi, yi in iter_array(X,y_flat):\n",
    "    anomaly_score = model.score_one(xi)\n",
    "    model = model.learn_one(xi)\n",
    "    metric.update(yi, anomaly_score)  # Update the AUROC metric.\n",
    "#    print(anomaly_score)\n",
    "# Output the resulting AUROCMetric.\n",
    "run_time = time.time() - start\n",
    "print(f\"Area under ROC metric is {metric.get()}.\")\n",
    "print(run_time)"
   ]
  },
  {
   "cell_type": "markdown",
   "id": "8cfa946c-6c7c-4c45-9083-034c60fbb284",
   "metadata": {},
   "source": [
    "Area under ROC metric is 0.539149900950972.\n",
    "\n",
    "Execution time: 798.5197999477386, 13min"
   ]
  },
  {
   "cell_type": "markdown",
   "id": "dd09c62b-9ca4-4bf2-948a-b6b054b60e88",
   "metadata": {},
   "source": [
    "# Vertebral (outliers 12.5%) nb_points: 240"
   ]
  },
  {
   "cell_type": "code",
   "execution_count": 42,
   "id": "8a3bc69c-5599-4da0-b62f-c4211eb07046",
   "metadata": {},
   "outputs": [],
   "source": [
    "data = scipy.io.loadmat('/Users/Sophie/Library/CloudStorage/OneDrive-Personnel/IP/Data Stream Processing/PySAD_to_River/data/vertebral.mat') "
   ]
  },
  {
   "cell_type": "code",
   "execution_count": 43,
   "id": "50633c01-da0c-4ca2-ba0d-e39f733683e0",
   "metadata": {},
   "outputs": [],
   "source": [
    "X = data['X']\n",
    "y = data['y']\n",
    "y_flat = data['y'].flatten()"
   ]
  },
  {
   "cell_type": "code",
   "execution_count": 44,
   "id": "f5c5c2a6-e76a-40ab-969d-7b952c58b17b",
   "metadata": {},
   "outputs": [
    {
     "name": "stdout",
     "output_type": "stream",
     "text": [
      "Area under ROC metric is 0.5427017019938262.\n",
      "28.776970148086548\n"
     ]
    }
   ],
   "source": [
    "start = time.time()\n",
    "for xi, yi in iter_array(X,y_flat):\n",
    "    anomaly_score = model.score_one(xi)\n",
    "    model = model.learn_one(xi)\n",
    "    metric.update(yi, anomaly_score)  # Update the AUROC metric.\n",
    "#    print(anomaly_score)\n",
    "# Output the resulting AUROCMetric.\n",
    "run_time = time.time() - start\n",
    "print(f\"Area under ROC metric is {metric.get()}.\")\n",
    "print(run_time)"
   ]
  },
  {
   "cell_type": "markdown",
   "id": "d7916069-cc1e-4b85-bc79-4a1084c67a38",
   "metadata": {},
   "source": [
    "Area under ROC metric is 0.5427017019938262.\n",
    "\n",
    "Execution time: 28.776970148086548, 28s"
   ]
  },
  {
   "cell_type": "markdown",
   "id": "4f77d5ef-d329-4988-9001-3023cd423dda",
   "metadata": {},
   "source": [
    "# Satellite (outliers 32%) nb_points: 6435"
   ]
  },
  {
   "cell_type": "code",
   "execution_count": 45,
   "id": "fb1edb43-0c78-4b11-bf6f-98f7feef7178",
   "metadata": {},
   "outputs": [],
   "source": [
    "data = scipy.io.loadmat('/Users/Sophie/Library/CloudStorage/OneDrive-Personnel/IP/Data Stream Processing/PySAD_to_River/data/satellite.mat') "
   ]
  },
  {
   "cell_type": "code",
   "execution_count": 46,
   "id": "d4ff0b71-659e-436a-a75a-e4c86afe1d3a",
   "metadata": {},
   "outputs": [],
   "source": [
    "X = data['X']\n",
    "y = data['y']\n",
    "y_flat = data['y'].flatten()"
   ]
  },
  {
   "cell_type": "code",
   "execution_count": 47,
   "id": "92944c56-2af6-4f8e-bc5f-e026719e93a1",
   "metadata": {},
   "outputs": [
    {
     "name": "stdout",
     "output_type": "stream",
     "text": [
      "Area under ROC metric is 0.670962463857515.\n",
      "750.2115750312805\n"
     ]
    }
   ],
   "source": [
    "start = time.time()\n",
    "for xi, yi in iter_array(X,y_flat):\n",
    "    anomaly_score = model.score_one(xi)\n",
    "    model = model.learn_one(xi)\n",
    "    metric.update(yi, anomaly_score)  # Update the AUROC metric.\n",
    "#    print(anomaly_score)\n",
    "# Output the resulting AUROCMetric.\n",
    "run_time = time.time() - start\n",
    "print(f\"Area under ROC metric is {metric.get()}.\")\n",
    "print(run_time)"
   ]
  },
  {
   "cell_type": "markdown",
   "id": "460c4a03-49c9-40f0-a95f-3daf4efa5042",
   "metadata": {},
   "source": [
    "Area under ROC metric is 0.670962463857515.\n",
    "\n",
    "Execution time: 750.2115750312805, 13min"
   ]
  },
  {
   "cell_type": "markdown",
   "id": "94f8c1f9-5371-41f8-865a-b06d5616f003",
   "metadata": {},
   "source": [
    "# BreastW (outliers 35%) nb_points: 683"
   ]
  },
  {
   "cell_type": "code",
   "execution_count": 48,
   "id": "d582230f-b2d1-4f69-80c8-506ade76b2bf",
   "metadata": {},
   "outputs": [],
   "source": [
    "data = scipy.io.loadmat('/Users/Sophie/Library/CloudStorage/OneDrive-Personnel/IP/Data Stream Processing/PySAD_to_River/data/breastw.mat') "
   ]
  },
  {
   "cell_type": "code",
   "execution_count": 49,
   "id": "cc075567-fa8a-4557-ba82-552b9f8e3547",
   "metadata": {},
   "outputs": [],
   "source": [
    "X = data['X']\n",
    "y = data['y']\n",
    "y_flat = data['y'].flatten()"
   ]
  },
  {
   "cell_type": "code",
   "execution_count": 50,
   "id": "14922a82-1df0-4c4f-b6be-370ce0646134",
   "metadata": {},
   "outputs": [
    {
     "name": "stdout",
     "output_type": "stream",
     "text": [
      "Area under ROC metric is 0.6735313667003362.\n",
      "72.90796303749084\n"
     ]
    }
   ],
   "source": [
    "start = time.time()\n",
    "for xi, yi in iter_array(X,y_flat):\n",
    "    anomaly_score = model.score_one(xi)\n",
    "    model = model.learn_one(xi)\n",
    "    metric.update(yi, anomaly_score)  # Update the AUROC metric.\n",
    "#    print(anomaly_score)\n",
    "# Output the resulting AUROCMetric.\n",
    "run_time = time.time() - start\n",
    "print(f\"Area under ROC metric is {metric.get()}.\")\n",
    "print(run_time)"
   ]
  },
  {
   "cell_type": "markdown",
   "id": "d9f79498-0575-4f16-a265-f28bfa2d4c5e",
   "metadata": {},
   "source": [
    "Area under ROC metric is 0.6735313667003362.\n",
    "\n",
    "Execution time: 72.90796303749084, 1min"
   ]
  },
  {
   "cell_type": "code",
   "execution_count": null,
   "id": "85528c0f-51a7-42d4-b98c-81bccca0671b",
   "metadata": {},
   "outputs": [],
   "source": []
  }
 ],
 "metadata": {
  "kernelspec": {
   "display_name": "Python 3",
   "language": "python",
   "name": "python3"
  },
  "language_info": {
   "codemirror_mode": {
    "name": "ipython",
    "version": 3
   },
   "file_extension": ".py",
   "mimetype": "text/x-python",
   "name": "python",
   "nbconvert_exporter": "python",
   "pygments_lexer": "ipython3",
   "version": "3.8.8"
  }
 },
 "nbformat": 4,
 "nbformat_minor": 5
}
